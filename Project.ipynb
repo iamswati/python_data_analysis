{
 "cells": [
  {
   "source": [
    "## Import Libraries\n",
    "\n"
   ],
   "cell_type": "markdown",
   "metadata": {}
  },
  {
   "cell_type": "code",
   "execution_count": 1,
   "metadata": {
    "tags": []
   },
   "outputs": [],
   "source": [
    "# In Python, 3 environment comes with many helpful analytics libraries installed\n",
    "\n",
    "import numpy as np        # linear algebra\n",
    "import os                 # accessing directory structure\n",
    "import pandas as pd       # data processing, CSV file I/O (e.g. pd.read_csv)\n",
    "\n",
    "# Pandas uses the plot() method to create diagrams.\n",
    "# Pythons uses Pyplot, a submodule of the Matplotlib library to visualize the diagram on the screen.\n",
    "# Matplotlib is a low level graph plotting library in python that serves as a visualization utility\n",
    "import matplotlib.pyplot as plt\n",
    "import seaborn as sns\n",
    "%matplotlib inline"
   ]
  },
  {
   "cell_type": "code",
   "execution_count": 2,
   "metadata": {},
   "outputs": [
    {
     "output_type": "stream",
     "name": "stdout",
     "text": [
      "C:\\Users\\swati\\Desktop\\Project\n"
     ]
    }
   ],
   "source": [
    "# Changing current working dir(cwd)\n",
    "\n",
    "os.chdir(\"C:/Users/swati/Desktop/Project/\")\n",
    "print(os.getcwd())"
   ]
  },
  {
   "cell_type": "code",
   "execution_count": 3,
   "metadata": {},
   "outputs": [
    {
     "output_type": "stream",
     "name": "stdout",
     "text": [
      "File Name                                             Modified             Size\nEdStatsData.csv                                2018-01-22 12:04:38    326426040\nEdStatsCountry.csv                             2018-01-22 12:04:38       139508\nEdStatsSeries.csv                              2018-01-22 12:04:38      3706781\nEdStatsCountry-Series.csv                      2018-01-22 12:04:38        48961\nEdStatsFootNote.csv                            2018-01-22 12:04:42     39711615\nextractall all files now.....\n"
     ]
    }
   ],
   "source": [
    "# Extracting a zip file\n",
    "\n",
    "from zipfile import * \n",
    "file= \"C:/Users/swati/Desktop/Project/Edstats_csv.zip\" \n",
    "file\n",
    "with ZipFile(file, 'r') as zip:\n",
    "    zip.printdir()\n",
    "    print('extractall all files now.....')\n",
    "    zip.extractall()"
   ]
  },
  {
   "source": [
    "## Reading EdStatsSeries.csv file"
   ],
   "cell_type": "markdown",
   "metadata": {}
  },
  {
   "cell_type": "code",
   "execution_count": 4,
   "metadata": {},
   "outputs": [
    {
     "output_type": "execute_result",
     "data": {
      "text/plain": [
       "                      Series Code         Topic  \\\n",
       "0             BAR.NOED.1519.FE.ZS    Attainment   \n",
       "1                BAR.NOED.1519.ZS    Attainment   \n",
       "2             BAR.NOED.15UP.FE.ZS    Attainment   \n",
       "3                BAR.NOED.15UP.ZS    Attainment   \n",
       "4             BAR.NOED.2024.FE.ZS    Attainment   \n",
       "...                           ...           ...   \n",
       "3660    UIS.XUNIT.USCONST.3.FSGOV  Expenditures   \n",
       "3661    UIS.XUNIT.USCONST.4.FSGOV  Expenditures   \n",
       "3662   UIS.XUNIT.USCONST.56.FSGOV  Expenditures   \n",
       "3663  XGDP.23.FSGOV.FDINSTADM.FFD  Expenditures   \n",
       "3664  XGDP.56.FSGOV.FDINSTADM.FFD  Expenditures   \n",
       "\n",
       "                                         Indicator Name  \\\n",
       "0     Barro-Lee: Percentage of female population age...   \n",
       "1     Barro-Lee: Percentage of population age 15-19 ...   \n",
       "2     Barro-Lee: Percentage of female population age...   \n",
       "3     Barro-Lee: Percentage of population age 15+ wi...   \n",
       "4     Barro-Lee: Percentage of female population age...   \n",
       "...                                                 ...   \n",
       "3660  Government expenditure per upper secondary stu...   \n",
       "3661  Government expenditure per post-secondary non-...   \n",
       "3662  Government expenditure per tertiary student (c...   \n",
       "3663  Government expenditure in secondary institutio...   \n",
       "3664  Government expenditure in tertiary institution...   \n",
       "\n",
       "                                       Short definition  \\\n",
       "0     Percentage of female population age 15-19 with...   \n",
       "1     Percentage of population age 15-19 with no edu...   \n",
       "2     Percentage of female population age 15+ with n...   \n",
       "3     Percentage of population age 15+ with no educa...   \n",
       "4     Percentage of female population age 20-24 with...   \n",
       "...                                                 ...   \n",
       "3660                                                NaN   \n",
       "3661                                                NaN   \n",
       "3662                                                NaN   \n",
       "3663  Total general (local, regional and central) go...   \n",
       "3664  Total general (local, regional and central) go...   \n",
       "\n",
       "                                        Long definition  Unit of measure  \\\n",
       "0     Percentage of female population age 15-19 with...              NaN   \n",
       "1     Percentage of population age 15-19 with no edu...              NaN   \n",
       "2     Percentage of female population age 15+ with n...              NaN   \n",
       "3     Percentage of population age 15+ with no educa...              NaN   \n",
       "4     Percentage of female population age 20-24 with...              NaN   \n",
       "...                                                 ...              ...   \n",
       "3660  Average total (current, capital and transfers)...              NaN   \n",
       "3661  Average total (current, capital and transfers)...              NaN   \n",
       "3662  Average total (current, capital and transfers)...              NaN   \n",
       "3663  Total general (local, regional and central) go...              NaN   \n",
       "3664  Total general (local, regional and central) go...              NaN   \n",
       "\n",
       "     Periodicity Base Period Other notes Aggregation method  ...  \\\n",
       "0            NaN         NaN         NaN                NaN  ...   \n",
       "1            NaN         NaN         NaN                NaN  ...   \n",
       "2            NaN         NaN         NaN                NaN  ...   \n",
       "3            NaN         NaN         NaN                NaN  ...   \n",
       "4            NaN         NaN         NaN                NaN  ...   \n",
       "...          ...         ...         ...                ...  ...   \n",
       "3660         NaN         NaN         NaN                NaN  ...   \n",
       "3661         NaN         NaN         NaN                NaN  ...   \n",
       "3662         NaN         NaN         NaN                NaN  ...   \n",
       "3663         NaN         NaN   Secondary                NaN  ...   \n",
       "3664         NaN         NaN    Tertiary                NaN  ...   \n",
       "\n",
       "     Notes from original source  General comments  \\\n",
       "0                           NaN               NaN   \n",
       "1                           NaN               NaN   \n",
       "2                           NaN               NaN   \n",
       "3                           NaN               NaN   \n",
       "4                           NaN               NaN   \n",
       "...                         ...               ...   \n",
       "3660                        NaN               NaN   \n",
       "3661                        NaN               NaN   \n",
       "3662                        NaN               NaN   \n",
       "3663                        NaN               NaN   \n",
       "3664                        NaN               NaN   \n",
       "\n",
       "                                                 Source  \\\n",
       "0     Robert J. Barro and Jong-Wha Lee: http://www.b...   \n",
       "1     Robert J. Barro and Jong-Wha Lee: http://www.b...   \n",
       "2     Robert J. Barro and Jong-Wha Lee: http://www.b...   \n",
       "3     Robert J. Barro and Jong-Wha Lee: http://www.b...   \n",
       "4     Robert J. Barro and Jong-Wha Lee: http://www.b...   \n",
       "...                                                 ...   \n",
       "3660                    UNESCO Institute for Statistics   \n",
       "3661                    UNESCO Institute for Statistics   \n",
       "3662                    UNESCO Institute for Statistics   \n",
       "3663                    UNESCO Institute for Statistics   \n",
       "3664                    UNESCO Institute for Statistics   \n",
       "\n",
       "     Statistical concept and methodology Development relevance  \\\n",
       "0                                    NaN                   NaN   \n",
       "1                                    NaN                   NaN   \n",
       "2                                    NaN                   NaN   \n",
       "3                                    NaN                   NaN   \n",
       "4                                    NaN                   NaN   \n",
       "...                                  ...                   ...   \n",
       "3660                                 NaN                   NaN   \n",
       "3661                                 NaN                   NaN   \n",
       "3662                                 NaN                   NaN   \n",
       "3663                                 NaN                   NaN   \n",
       "3664                                 NaN                   NaN   \n",
       "\n",
       "     Related source links Other web links  Related indicators  License Type  \\\n",
       "0                     NaN             NaN                 NaN           NaN   \n",
       "1                     NaN             NaN                 NaN           NaN   \n",
       "2                     NaN             NaN                 NaN           NaN   \n",
       "3                     NaN             NaN                 NaN           NaN   \n",
       "4                     NaN             NaN                 NaN           NaN   \n",
       "...                   ...             ...                 ...           ...   \n",
       "3660                  NaN             NaN                 NaN           NaN   \n",
       "3661                  NaN             NaN                 NaN           NaN   \n",
       "3662                  NaN             NaN                 NaN           NaN   \n",
       "3663                  NaN             NaN                 NaN           NaN   \n",
       "3664                  NaN             NaN                 NaN           NaN   \n",
       "\n",
       "      Unnamed: 20  \n",
       "0             NaN  \n",
       "1             NaN  \n",
       "2             NaN  \n",
       "3             NaN  \n",
       "4             NaN  \n",
       "...           ...  \n",
       "3660          NaN  \n",
       "3661          NaN  \n",
       "3662          NaN  \n",
       "3663          NaN  \n",
       "3664          NaN  \n",
       "\n",
       "[3665 rows x 21 columns]"
      ],
      "text/html": "<div>\n<style scoped>\n    .dataframe tbody tr th:only-of-type {\n        vertical-align: middle;\n    }\n\n    .dataframe tbody tr th {\n        vertical-align: top;\n    }\n\n    .dataframe thead th {\n        text-align: right;\n    }\n</style>\n<table border=\"1\" class=\"dataframe\">\n  <thead>\n    <tr style=\"text-align: right;\">\n      <th></th>\n      <th>Series Code</th>\n      <th>Topic</th>\n      <th>Indicator Name</th>\n      <th>Short definition</th>\n      <th>Long definition</th>\n      <th>Unit of measure</th>\n      <th>Periodicity</th>\n      <th>Base Period</th>\n      <th>Other notes</th>\n      <th>Aggregation method</th>\n      <th>...</th>\n      <th>Notes from original source</th>\n      <th>General comments</th>\n      <th>Source</th>\n      <th>Statistical concept and methodology</th>\n      <th>Development relevance</th>\n      <th>Related source links</th>\n      <th>Other web links</th>\n      <th>Related indicators</th>\n      <th>License Type</th>\n      <th>Unnamed: 20</th>\n    </tr>\n  </thead>\n  <tbody>\n    <tr>\n      <th>0</th>\n      <td>BAR.NOED.1519.FE.ZS</td>\n      <td>Attainment</td>\n      <td>Barro-Lee: Percentage of female population age...</td>\n      <td>Percentage of female population age 15-19 with...</td>\n      <td>Percentage of female population age 15-19 with...</td>\n      <td>NaN</td>\n      <td>NaN</td>\n      <td>NaN</td>\n      <td>NaN</td>\n      <td>NaN</td>\n      <td>...</td>\n      <td>NaN</td>\n      <td>NaN</td>\n      <td>Robert J. Barro and Jong-Wha Lee: http://www.b...</td>\n      <td>NaN</td>\n      <td>NaN</td>\n      <td>NaN</td>\n      <td>NaN</td>\n      <td>NaN</td>\n      <td>NaN</td>\n      <td>NaN</td>\n    </tr>\n    <tr>\n      <th>1</th>\n      <td>BAR.NOED.1519.ZS</td>\n      <td>Attainment</td>\n      <td>Barro-Lee: Percentage of population age 15-19 ...</td>\n      <td>Percentage of population age 15-19 with no edu...</td>\n      <td>Percentage of population age 15-19 with no edu...</td>\n      <td>NaN</td>\n      <td>NaN</td>\n      <td>NaN</td>\n      <td>NaN</td>\n      <td>NaN</td>\n      <td>...</td>\n      <td>NaN</td>\n      <td>NaN</td>\n      <td>Robert J. Barro and Jong-Wha Lee: http://www.b...</td>\n      <td>NaN</td>\n      <td>NaN</td>\n      <td>NaN</td>\n      <td>NaN</td>\n      <td>NaN</td>\n      <td>NaN</td>\n      <td>NaN</td>\n    </tr>\n    <tr>\n      <th>2</th>\n      <td>BAR.NOED.15UP.FE.ZS</td>\n      <td>Attainment</td>\n      <td>Barro-Lee: Percentage of female population age...</td>\n      <td>Percentage of female population age 15+ with n...</td>\n      <td>Percentage of female population age 15+ with n...</td>\n      <td>NaN</td>\n      <td>NaN</td>\n      <td>NaN</td>\n      <td>NaN</td>\n      <td>NaN</td>\n      <td>...</td>\n      <td>NaN</td>\n      <td>NaN</td>\n      <td>Robert J. Barro and Jong-Wha Lee: http://www.b...</td>\n      <td>NaN</td>\n      <td>NaN</td>\n      <td>NaN</td>\n      <td>NaN</td>\n      <td>NaN</td>\n      <td>NaN</td>\n      <td>NaN</td>\n    </tr>\n    <tr>\n      <th>3</th>\n      <td>BAR.NOED.15UP.ZS</td>\n      <td>Attainment</td>\n      <td>Barro-Lee: Percentage of population age 15+ wi...</td>\n      <td>Percentage of population age 15+ with no educa...</td>\n      <td>Percentage of population age 15+ with no educa...</td>\n      <td>NaN</td>\n      <td>NaN</td>\n      <td>NaN</td>\n      <td>NaN</td>\n      <td>NaN</td>\n      <td>...</td>\n      <td>NaN</td>\n      <td>NaN</td>\n      <td>Robert J. Barro and Jong-Wha Lee: http://www.b...</td>\n      <td>NaN</td>\n      <td>NaN</td>\n      <td>NaN</td>\n      <td>NaN</td>\n      <td>NaN</td>\n      <td>NaN</td>\n      <td>NaN</td>\n    </tr>\n    <tr>\n      <th>4</th>\n      <td>BAR.NOED.2024.FE.ZS</td>\n      <td>Attainment</td>\n      <td>Barro-Lee: Percentage of female population age...</td>\n      <td>Percentage of female population age 20-24 with...</td>\n      <td>Percentage of female population age 20-24 with...</td>\n      <td>NaN</td>\n      <td>NaN</td>\n      <td>NaN</td>\n      <td>NaN</td>\n      <td>NaN</td>\n      <td>...</td>\n      <td>NaN</td>\n      <td>NaN</td>\n      <td>Robert J. Barro and Jong-Wha Lee: http://www.b...</td>\n      <td>NaN</td>\n      <td>NaN</td>\n      <td>NaN</td>\n      <td>NaN</td>\n      <td>NaN</td>\n      <td>NaN</td>\n      <td>NaN</td>\n    </tr>\n    <tr>\n      <th>...</th>\n      <td>...</td>\n      <td>...</td>\n      <td>...</td>\n      <td>...</td>\n      <td>...</td>\n      <td>...</td>\n      <td>...</td>\n      <td>...</td>\n      <td>...</td>\n      <td>...</td>\n      <td>...</td>\n      <td>...</td>\n      <td>...</td>\n      <td>...</td>\n      <td>...</td>\n      <td>...</td>\n      <td>...</td>\n      <td>...</td>\n      <td>...</td>\n      <td>...</td>\n      <td>...</td>\n    </tr>\n    <tr>\n      <th>3660</th>\n      <td>UIS.XUNIT.USCONST.3.FSGOV</td>\n      <td>Expenditures</td>\n      <td>Government expenditure per upper secondary stu...</td>\n      <td>NaN</td>\n      <td>Average total (current, capital and transfers)...</td>\n      <td>NaN</td>\n      <td>NaN</td>\n      <td>NaN</td>\n      <td>NaN</td>\n      <td>NaN</td>\n      <td>...</td>\n      <td>NaN</td>\n      <td>NaN</td>\n      <td>UNESCO Institute for Statistics</td>\n      <td>NaN</td>\n      <td>NaN</td>\n      <td>NaN</td>\n      <td>NaN</td>\n      <td>NaN</td>\n      <td>NaN</td>\n      <td>NaN</td>\n    </tr>\n    <tr>\n      <th>3661</th>\n      <td>UIS.XUNIT.USCONST.4.FSGOV</td>\n      <td>Expenditures</td>\n      <td>Government expenditure per post-secondary non-...</td>\n      <td>NaN</td>\n      <td>Average total (current, capital and transfers)...</td>\n      <td>NaN</td>\n      <td>NaN</td>\n      <td>NaN</td>\n      <td>NaN</td>\n      <td>NaN</td>\n      <td>...</td>\n      <td>NaN</td>\n      <td>NaN</td>\n      <td>UNESCO Institute for Statistics</td>\n      <td>NaN</td>\n      <td>NaN</td>\n      <td>NaN</td>\n      <td>NaN</td>\n      <td>NaN</td>\n      <td>NaN</td>\n      <td>NaN</td>\n    </tr>\n    <tr>\n      <th>3662</th>\n      <td>UIS.XUNIT.USCONST.56.FSGOV</td>\n      <td>Expenditures</td>\n      <td>Government expenditure per tertiary student (c...</td>\n      <td>NaN</td>\n      <td>Average total (current, capital and transfers)...</td>\n      <td>NaN</td>\n      <td>NaN</td>\n      <td>NaN</td>\n      <td>NaN</td>\n      <td>NaN</td>\n      <td>...</td>\n      <td>NaN</td>\n      <td>NaN</td>\n      <td>UNESCO Institute for Statistics</td>\n      <td>NaN</td>\n      <td>NaN</td>\n      <td>NaN</td>\n      <td>NaN</td>\n      <td>NaN</td>\n      <td>NaN</td>\n      <td>NaN</td>\n    </tr>\n    <tr>\n      <th>3663</th>\n      <td>XGDP.23.FSGOV.FDINSTADM.FFD</td>\n      <td>Expenditures</td>\n      <td>Government expenditure in secondary institutio...</td>\n      <td>Total general (local, regional and central) go...</td>\n      <td>Total general (local, regional and central) go...</td>\n      <td>NaN</td>\n      <td>NaN</td>\n      <td>NaN</td>\n      <td>Secondary</td>\n      <td>NaN</td>\n      <td>...</td>\n      <td>NaN</td>\n      <td>NaN</td>\n      <td>UNESCO Institute for Statistics</td>\n      <td>NaN</td>\n      <td>NaN</td>\n      <td>NaN</td>\n      <td>NaN</td>\n      <td>NaN</td>\n      <td>NaN</td>\n      <td>NaN</td>\n    </tr>\n    <tr>\n      <th>3664</th>\n      <td>XGDP.56.FSGOV.FDINSTADM.FFD</td>\n      <td>Expenditures</td>\n      <td>Government expenditure in tertiary institution...</td>\n      <td>Total general (local, regional and central) go...</td>\n      <td>Total general (local, regional and central) go...</td>\n      <td>NaN</td>\n      <td>NaN</td>\n      <td>NaN</td>\n      <td>Tertiary</td>\n      <td>NaN</td>\n      <td>...</td>\n      <td>NaN</td>\n      <td>NaN</td>\n      <td>UNESCO Institute for Statistics</td>\n      <td>NaN</td>\n      <td>NaN</td>\n      <td>NaN</td>\n      <td>NaN</td>\n      <td>NaN</td>\n      <td>NaN</td>\n      <td>NaN</td>\n    </tr>\n  </tbody>\n</table>\n<p>3665 rows × 21 columns</p>\n</div>"
     },
     "metadata": {},
     "execution_count": 4
    }
   ],
   "source": [
    "df_series = pd.read_csv(r\"C:/Users/swati/Desktop/Project/EdStatsSeries.csv\")\n",
    "df_series"
   ]
  },
  {
   "source": [
    "### Finding the null values"
   ],
   "cell_type": "markdown",
   "metadata": {}
  },
  {
   "cell_type": "code",
   "execution_count": 5,
   "metadata": {},
   "outputs": [
    {
     "output_type": "execute_result",
     "data": {
      "text/plain": [
       "Series Code                               0\n",
       "Topic                                     0\n",
       "Indicator Name                            0\n",
       "Short definition                       1509\n",
       "Long definition                           0\n",
       "Unit of measure                        3665\n",
       "Periodicity                            3566\n",
       "Base Period                            3351\n",
       "Other notes                            3113\n",
       "Aggregation method                     3618\n",
       "Limitations and exceptions             3651\n",
       "Notes from original source             3665\n",
       "General comments                       3651\n",
       "Source                                    0\n",
       "Statistical concept and methodology    3642\n",
       "Development relevance                  3662\n",
       "Related source links                   3450\n",
       "Other web links                        3665\n",
       "Related indicators                     3665\n",
       "License Type                           3665\n",
       "Unnamed: 20                            3665\n",
       "dtype: int64"
      ]
     },
     "metadata": {},
     "execution_count": 5
    }
   ],
   "source": [
    "df_series.isnull().sum()"
   ]
  },
  {
   "cell_type": "code",
   "execution_count": 6,
   "metadata": {},
   "outputs": [
    {
     "output_type": "execute_result",
     "data": {
      "text/plain": [
       "(3665, 21)"
      ]
     },
     "metadata": {},
     "execution_count": 6
    }
   ],
   "source": [
    "# DataFrame stores the number of rows and columns as a tuple (number of rows, number of columns)\n",
    "\n",
    "df_series.shape"
   ]
  },
  {
   "cell_type": "code",
   "execution_count": 7,
   "metadata": {},
   "outputs": [
    {
     "output_type": "execute_result",
     "data": {
      "text/plain": [
       "(3665, 21)"
      ]
     },
     "metadata": {},
     "execution_count": 7
    }
   ],
   "source": [
    "#  drop_duplicates() method helps in removing duplicates from the data frame.\n",
    "df_series.drop_duplicates()\n",
    "df_series.shape"
   ]
  },
  {
   "source": [
    "### Drop un-necessary columns"
   ],
   "cell_type": "markdown",
   "metadata": {}
  },
  {
   "cell_type": "code",
   "execution_count": 8,
   "metadata": {},
   "outputs": [
    {
     "output_type": "execute_result",
     "data": {
      "text/plain": [
       "           Series Code       Topic  \\\n",
       "0  BAR.NOED.1519.FE.ZS  Attainment   \n",
       "1     BAR.NOED.1519.ZS  Attainment   \n",
       "2  BAR.NOED.15UP.FE.ZS  Attainment   \n",
       "3     BAR.NOED.15UP.ZS  Attainment   \n",
       "4  BAR.NOED.2024.FE.ZS  Attainment   \n",
       "\n",
       "                                      Indicator Name  \\\n",
       "0  Barro-Lee: Percentage of female population age...   \n",
       "1  Barro-Lee: Percentage of population age 15-19 ...   \n",
       "2  Barro-Lee: Percentage of female population age...   \n",
       "3  Barro-Lee: Percentage of population age 15+ wi...   \n",
       "4  Barro-Lee: Percentage of female population age...   \n",
       "\n",
       "                                    Short definition  \\\n",
       "0  Percentage of female population age 15-19 with...   \n",
       "1  Percentage of population age 15-19 with no edu...   \n",
       "2  Percentage of female population age 15+ with n...   \n",
       "3  Percentage of population age 15+ with no educa...   \n",
       "4  Percentage of female population age 20-24 with...   \n",
       "\n",
       "                                     Long definition  \\\n",
       "0  Percentage of female population age 15-19 with...   \n",
       "1  Percentage of population age 15-19 with no edu...   \n",
       "2  Percentage of female population age 15+ with n...   \n",
       "3  Percentage of population age 15+ with no educa...   \n",
       "4  Percentage of female population age 20-24 with...   \n",
       "\n",
       "                                              Source  \n",
       "0  Robert J. Barro and Jong-Wha Lee: http://www.b...  \n",
       "1  Robert J. Barro and Jong-Wha Lee: http://www.b...  \n",
       "2  Robert J. Barro and Jong-Wha Lee: http://www.b...  \n",
       "3  Robert J. Barro and Jong-Wha Lee: http://www.b...  \n",
       "4  Robert J. Barro and Jong-Wha Lee: http://www.b...  "
      ],
      "text/html": "<div>\n<style scoped>\n    .dataframe tbody tr th:only-of-type {\n        vertical-align: middle;\n    }\n\n    .dataframe tbody tr th {\n        vertical-align: top;\n    }\n\n    .dataframe thead th {\n        text-align: right;\n    }\n</style>\n<table border=\"1\" class=\"dataframe\">\n  <thead>\n    <tr style=\"text-align: right;\">\n      <th></th>\n      <th>Series Code</th>\n      <th>Topic</th>\n      <th>Indicator Name</th>\n      <th>Short definition</th>\n      <th>Long definition</th>\n      <th>Source</th>\n    </tr>\n  </thead>\n  <tbody>\n    <tr>\n      <th>0</th>\n      <td>BAR.NOED.1519.FE.ZS</td>\n      <td>Attainment</td>\n      <td>Barro-Lee: Percentage of female population age...</td>\n      <td>Percentage of female population age 15-19 with...</td>\n      <td>Percentage of female population age 15-19 with...</td>\n      <td>Robert J. Barro and Jong-Wha Lee: http://www.b...</td>\n    </tr>\n    <tr>\n      <th>1</th>\n      <td>BAR.NOED.1519.ZS</td>\n      <td>Attainment</td>\n      <td>Barro-Lee: Percentage of population age 15-19 ...</td>\n      <td>Percentage of population age 15-19 with no edu...</td>\n      <td>Percentage of population age 15-19 with no edu...</td>\n      <td>Robert J. Barro and Jong-Wha Lee: http://www.b...</td>\n    </tr>\n    <tr>\n      <th>2</th>\n      <td>BAR.NOED.15UP.FE.ZS</td>\n      <td>Attainment</td>\n      <td>Barro-Lee: Percentage of female population age...</td>\n      <td>Percentage of female population age 15+ with n...</td>\n      <td>Percentage of female population age 15+ with n...</td>\n      <td>Robert J. Barro and Jong-Wha Lee: http://www.b...</td>\n    </tr>\n    <tr>\n      <th>3</th>\n      <td>BAR.NOED.15UP.ZS</td>\n      <td>Attainment</td>\n      <td>Barro-Lee: Percentage of population age 15+ wi...</td>\n      <td>Percentage of population age 15+ with no educa...</td>\n      <td>Percentage of population age 15+ with no educa...</td>\n      <td>Robert J. Barro and Jong-Wha Lee: http://www.b...</td>\n    </tr>\n    <tr>\n      <th>4</th>\n      <td>BAR.NOED.2024.FE.ZS</td>\n      <td>Attainment</td>\n      <td>Barro-Lee: Percentage of female population age...</td>\n      <td>Percentage of female population age 20-24 with...</td>\n      <td>Percentage of female population age 20-24 with...</td>\n      <td>Robert J. Barro and Jong-Wha Lee: http://www.b...</td>\n    </tr>\n  </tbody>\n</table>\n</div>"
     },
     "metadata": {},
     "execution_count": 8
    }
   ],
   "source": [
    "df_series.drop(['Unit of measure', 'Periodicity', 'Base Period', 'Other notes', 'Aggregation method', 'Limitations and exceptions', 'Notes from original source', 'General comments', 'Other web links', 'Statistical concept and methodology', 'Development relevance', 'Related indicators', 'License Type', 'Unnamed: 20', 'Related source links'], axis=1, inplace=True)\n",
    "\n",
    "# The head() method returns the headers and a specified number of rows, starting from the top.\n",
    "df_series.head()"
   ]
  },
  {
   "cell_type": "code",
   "execution_count": 9,
   "metadata": {},
   "outputs": [],
   "source": [
    "df_series.dropna(inplace=True)"
   ]
  },
  {
   "cell_type": "code",
   "execution_count": 10,
   "metadata": {},
   "outputs": [
    {
     "output_type": "execute_result",
     "data": {
      "text/plain": [
       "(2156, 6)"
      ]
     },
     "metadata": {},
     "execution_count": 10
    }
   ],
   "source": [
    "df_series.shape"
   ]
  },
  {
   "cell_type": "code",
   "execution_count": 11,
   "metadata": {},
   "outputs": [
    {
     "output_type": "execute_result",
     "data": {
      "text/plain": [
       "Index(['Series Code', 'Topic', 'Indicator Name', 'Short definition',\n",
       "       'Long definition', 'Source'],\n",
       "      dtype='object')"
      ]
     },
     "metadata": {},
     "execution_count": 11
    }
   ],
   "source": [
    "df_series.columns"
   ]
  },
  {
   "cell_type": "code",
   "execution_count": 12,
   "metadata": {},
   "outputs": [
    {
     "output_type": "stream",
     "name": "stdout",
     "text": [
      "<class 'pandas.core.frame.DataFrame'>\nInt64Index: 2156 entries, 0 to 3664\nData columns (total 6 columns):\n #   Column            Non-Null Count  Dtype \n---  ------            --------------  ----- \n 0   Series Code       2156 non-null   object\n 1   Topic             2156 non-null   object\n 2   Indicator Name    2156 non-null   object\n 3   Short definition  2156 non-null   object\n 4   Long definition   2156 non-null   object\n 5   Source            2156 non-null   object\ndtypes: object(6)\nmemory usage: 67.4+ KB\n"
     ]
    }
   ],
   "source": [
    "# info() - gives you more information about the data set.\n",
    "\n",
    "# And the name of each column, with the data type\n",
    "\n",
    "df_series.info()"
   ]
  },
  {
   "source": [
    "## Reading EdStatsCountry.csv file"
   ],
   "cell_type": "markdown",
   "metadata": {}
  },
  {
   "cell_type": "code",
   "execution_count": 13,
   "metadata": {},
   "outputs": [
    {
     "output_type": "execute_result",
     "data": {
      "text/plain": [
       "    Country Code    Short Name    Table Name                     Long Name  \\\n",
       "0            ABW         Aruba         Aruba                         Aruba   \n",
       "1            AFG   Afghanistan   Afghanistan  Islamic State of Afghanistan   \n",
       "2            AGO        Angola        Angola   People's Republic of Angola   \n",
       "3            ALB       Albania       Albania           Republic of Albania   \n",
       "4            AND       Andorra       Andorra       Principality of Andorra   \n",
       "..           ...           ...           ...                           ...   \n",
       "236          XKX        Kosovo        Kosovo            Republic of Kosovo   \n",
       "237          YEM         Yemen   Yemen, Rep.             Republic of Yemen   \n",
       "238          ZAF  South Africa  South Africa      Republic of South Africa   \n",
       "239          ZMB        Zambia        Zambia            Republic of Zambia   \n",
       "240          ZWE      Zimbabwe      Zimbabwe          Republic of Zimbabwe   \n",
       "\n",
       "    2-alpha code       Currency Unit  \\\n",
       "0             AW       Aruban florin   \n",
       "1             AF      Afghan afghani   \n",
       "2             AO      Angolan kwanza   \n",
       "3             AL        Albanian lek   \n",
       "4             AD                Euro   \n",
       "..           ...                 ...   \n",
       "236          NaN                Euro   \n",
       "237           YE         Yemeni rial   \n",
       "238           ZA  South African rand   \n",
       "239           ZM  New Zambian kwacha   \n",
       "240           ZW         U.S. dollar   \n",
       "\n",
       "                                         Special Notes  \\\n",
       "0    SNA data for 2000-2011 are updated from offici...   \n",
       "1    Fiscal year end: March 20; reporting period fo...   \n",
       "2    April 2013 database update: Based on IMF data,...   \n",
       "3                                                  NaN   \n",
       "4                                                  NaN   \n",
       "..                                                 ...   \n",
       "236  Kosovo became a World Bank member on June 29, ...   \n",
       "237  Based on official government statistics and In...   \n",
       "238  Fiscal year end: March 31; reporting period fo...   \n",
       "239  National accounts data have rebased to reflect...   \n",
       "240  Fiscal year end: June 30; reporting period for...   \n",
       "\n",
       "                         Region          Income Group WB-2 code  ...  \\\n",
       "0     Latin America & Caribbean  High income: nonOECD        AW  ...   \n",
       "1                    South Asia            Low income        AF  ...   \n",
       "2            Sub-Saharan Africa   Upper middle income        AO  ...   \n",
       "3         Europe & Central Asia   Upper middle income        AL  ...   \n",
       "4         Europe & Central Asia  High income: nonOECD        AD  ...   \n",
       "..                          ...                   ...       ...  ...   \n",
       "236       Europe & Central Asia   Lower middle income        KV  ...   \n",
       "237  Middle East & North Africa   Lower middle income        RY  ...   \n",
       "238          Sub-Saharan Africa   Upper middle income        ZA  ...   \n",
       "239          Sub-Saharan Africa   Lower middle income        ZM  ...   \n",
       "240          Sub-Saharan Africa            Low income        ZW  ...   \n",
       "\n",
       "                IMF data dissemination standard  \\\n",
       "0                                           NaN   \n",
       "1      General Data Dissemination System (GDDS)   \n",
       "2      General Data Dissemination System (GDDS)   \n",
       "3      General Data Dissemination System (GDDS)   \n",
       "4                                           NaN   \n",
       "..                                          ...   \n",
       "236    General Data Dissemination System (GDDS)   \n",
       "237    General Data Dissemination System (GDDS)   \n",
       "238  Special Data Dissemination Standard (SDDS)   \n",
       "239    General Data Dissemination System (GDDS)   \n",
       "240    General Data Dissemination System (GDDS)   \n",
       "\n",
       "                              Latest population census  \\\n",
       "0                                                 2010   \n",
       "1                                                 1979   \n",
       "2                                                 1970   \n",
       "3                                                 2011   \n",
       "4    2011. Population figures compiled from adminis...   \n",
       "..                                                 ...   \n",
       "236                                               2011   \n",
       "237                                               2004   \n",
       "238                                               2011   \n",
       "239                                               2010   \n",
       "240                                               2012   \n",
       "\n",
       "                               Latest household survey  \\\n",
       "0                                                  NaN   \n",
       "1    Multiple Indicator Cluster Survey (MICS), 2010/11   \n",
       "2                 Malaria Indicator Survey (MIS), 2011   \n",
       "3         Demographic and Health Survey (DHS), 2008/09   \n",
       "4                                                  NaN   \n",
       "..                                                 ...   \n",
       "236                                                NaN   \n",
       "237          Demographic and Health Survey (DHS), 2013   \n",
       "238  Demographic and Health Survey (DHS), 2003; Wor...   \n",
       "239          Demographic and Health Survey (DHS), 2013   \n",
       "240       Demographic and Health Survey (DHS), 2010/11   \n",
       "\n",
       "     Source of most recent Income and expenditure data  \\\n",
       "0                                                  NaN   \n",
       "1              Integrated household survey (IHS), 2008   \n",
       "2              Integrated household survey (IHS), 2008   \n",
       "3    Living Standards Measurement Study Survey (LSM...   \n",
       "4                                                  NaN   \n",
       "..                                                 ...   \n",
       "236            Integrated household survey (IHS), 2011   \n",
       "237     Expenditure survey/budget survey (ES/BS), 2005   \n",
       "238     Expenditure survey/budget survey (ES/BS), 2010   \n",
       "239            Integrated household survey (IHS), 2010   \n",
       "240         Integrated household survey (IHS), 2011/12   \n",
       "\n",
       "    Vital registration complete            Latest agricultural census  \\\n",
       "0                           Yes                                   NaN   \n",
       "1                           NaN                               2013/14   \n",
       "2                           NaN                                  2015   \n",
       "3                           Yes                                  2012   \n",
       "4                           Yes                                   NaN   \n",
       "..                          ...                                   ...   \n",
       "236                         NaN                                   NaN   \n",
       "237                         NaN                                   NaN   \n",
       "238                         NaN                                  2007   \n",
       "239                         NaN  2010. Population and Housing Census.   \n",
       "240                         NaN                                   NaN   \n",
       "\n",
       "    Latest industrial data Latest trade data Latest water withdrawal data  \\\n",
       "0                      NaN            2012.0                          NaN   \n",
       "1                      NaN            2012.0                         2000   \n",
       "2                      NaN               NaN                         2005   \n",
       "3                   2010.0            2012.0                         2006   \n",
       "4                      NaN            2006.0                          NaN   \n",
       "..                     ...               ...                          ...   \n",
       "236                    NaN               NaN                          NaN   \n",
       "237                 2006.0            2012.0                         2005   \n",
       "238                 2010.0            2012.0                         2000   \n",
       "239                    NaN            2011.0                         2002   \n",
       "240                    NaN            2012.0                         2002   \n",
       "\n",
       "    Unnamed: 31  \n",
       "0           NaN  \n",
       "1           NaN  \n",
       "2           NaN  \n",
       "3           NaN  \n",
       "4           NaN  \n",
       "..          ...  \n",
       "236         NaN  \n",
       "237         NaN  \n",
       "238         NaN  \n",
       "239         NaN  \n",
       "240         NaN  \n",
       "\n",
       "[241 rows x 32 columns]"
      ],
      "text/html": "<div>\n<style scoped>\n    .dataframe tbody tr th:only-of-type {\n        vertical-align: middle;\n    }\n\n    .dataframe tbody tr th {\n        vertical-align: top;\n    }\n\n    .dataframe thead th {\n        text-align: right;\n    }\n</style>\n<table border=\"1\" class=\"dataframe\">\n  <thead>\n    <tr style=\"text-align: right;\">\n      <th></th>\n      <th>Country Code</th>\n      <th>Short Name</th>\n      <th>Table Name</th>\n      <th>Long Name</th>\n      <th>2-alpha code</th>\n      <th>Currency Unit</th>\n      <th>Special Notes</th>\n      <th>Region</th>\n      <th>Income Group</th>\n      <th>WB-2 code</th>\n      <th>...</th>\n      <th>IMF data dissemination standard</th>\n      <th>Latest population census</th>\n      <th>Latest household survey</th>\n      <th>Source of most recent Income and expenditure data</th>\n      <th>Vital registration complete</th>\n      <th>Latest agricultural census</th>\n      <th>Latest industrial data</th>\n      <th>Latest trade data</th>\n      <th>Latest water withdrawal data</th>\n      <th>Unnamed: 31</th>\n    </tr>\n  </thead>\n  <tbody>\n    <tr>\n      <th>0</th>\n      <td>ABW</td>\n      <td>Aruba</td>\n      <td>Aruba</td>\n      <td>Aruba</td>\n      <td>AW</td>\n      <td>Aruban florin</td>\n      <td>SNA data for 2000-2011 are updated from offici...</td>\n      <td>Latin America &amp; Caribbean</td>\n      <td>High income: nonOECD</td>\n      <td>AW</td>\n      <td>...</td>\n      <td>NaN</td>\n      <td>2010</td>\n      <td>NaN</td>\n      <td>NaN</td>\n      <td>Yes</td>\n      <td>NaN</td>\n      <td>NaN</td>\n      <td>2012.0</td>\n      <td>NaN</td>\n      <td>NaN</td>\n    </tr>\n    <tr>\n      <th>1</th>\n      <td>AFG</td>\n      <td>Afghanistan</td>\n      <td>Afghanistan</td>\n      <td>Islamic State of Afghanistan</td>\n      <td>AF</td>\n      <td>Afghan afghani</td>\n      <td>Fiscal year end: March 20; reporting period fo...</td>\n      <td>South Asia</td>\n      <td>Low income</td>\n      <td>AF</td>\n      <td>...</td>\n      <td>General Data Dissemination System (GDDS)</td>\n      <td>1979</td>\n      <td>Multiple Indicator Cluster Survey (MICS), 2010/11</td>\n      <td>Integrated household survey (IHS), 2008</td>\n      <td>NaN</td>\n      <td>2013/14</td>\n      <td>NaN</td>\n      <td>2012.0</td>\n      <td>2000</td>\n      <td>NaN</td>\n    </tr>\n    <tr>\n      <th>2</th>\n      <td>AGO</td>\n      <td>Angola</td>\n      <td>Angola</td>\n      <td>People's Republic of Angola</td>\n      <td>AO</td>\n      <td>Angolan kwanza</td>\n      <td>April 2013 database update: Based on IMF data,...</td>\n      <td>Sub-Saharan Africa</td>\n      <td>Upper middle income</td>\n      <td>AO</td>\n      <td>...</td>\n      <td>General Data Dissemination System (GDDS)</td>\n      <td>1970</td>\n      <td>Malaria Indicator Survey (MIS), 2011</td>\n      <td>Integrated household survey (IHS), 2008</td>\n      <td>NaN</td>\n      <td>2015</td>\n      <td>NaN</td>\n      <td>NaN</td>\n      <td>2005</td>\n      <td>NaN</td>\n    </tr>\n    <tr>\n      <th>3</th>\n      <td>ALB</td>\n      <td>Albania</td>\n      <td>Albania</td>\n      <td>Republic of Albania</td>\n      <td>AL</td>\n      <td>Albanian lek</td>\n      <td>NaN</td>\n      <td>Europe &amp; Central Asia</td>\n      <td>Upper middle income</td>\n      <td>AL</td>\n      <td>...</td>\n      <td>General Data Dissemination System (GDDS)</td>\n      <td>2011</td>\n      <td>Demographic and Health Survey (DHS), 2008/09</td>\n      <td>Living Standards Measurement Study Survey (LSM...</td>\n      <td>Yes</td>\n      <td>2012</td>\n      <td>2010.0</td>\n      <td>2012.0</td>\n      <td>2006</td>\n      <td>NaN</td>\n    </tr>\n    <tr>\n      <th>4</th>\n      <td>AND</td>\n      <td>Andorra</td>\n      <td>Andorra</td>\n      <td>Principality of Andorra</td>\n      <td>AD</td>\n      <td>Euro</td>\n      <td>NaN</td>\n      <td>Europe &amp; Central Asia</td>\n      <td>High income: nonOECD</td>\n      <td>AD</td>\n      <td>...</td>\n      <td>NaN</td>\n      <td>2011. Population figures compiled from adminis...</td>\n      <td>NaN</td>\n      <td>NaN</td>\n      <td>Yes</td>\n      <td>NaN</td>\n      <td>NaN</td>\n      <td>2006.0</td>\n      <td>NaN</td>\n      <td>NaN</td>\n    </tr>\n    <tr>\n      <th>...</th>\n      <td>...</td>\n      <td>...</td>\n      <td>...</td>\n      <td>...</td>\n      <td>...</td>\n      <td>...</td>\n      <td>...</td>\n      <td>...</td>\n      <td>...</td>\n      <td>...</td>\n      <td>...</td>\n      <td>...</td>\n      <td>...</td>\n      <td>...</td>\n      <td>...</td>\n      <td>...</td>\n      <td>...</td>\n      <td>...</td>\n      <td>...</td>\n      <td>...</td>\n      <td>...</td>\n    </tr>\n    <tr>\n      <th>236</th>\n      <td>XKX</td>\n      <td>Kosovo</td>\n      <td>Kosovo</td>\n      <td>Republic of Kosovo</td>\n      <td>NaN</td>\n      <td>Euro</td>\n      <td>Kosovo became a World Bank member on June 29, ...</td>\n      <td>Europe &amp; Central Asia</td>\n      <td>Lower middle income</td>\n      <td>KV</td>\n      <td>...</td>\n      <td>General Data Dissemination System (GDDS)</td>\n      <td>2011</td>\n      <td>NaN</td>\n      <td>Integrated household survey (IHS), 2011</td>\n      <td>NaN</td>\n      <td>NaN</td>\n      <td>NaN</td>\n      <td>NaN</td>\n      <td>NaN</td>\n      <td>NaN</td>\n    </tr>\n    <tr>\n      <th>237</th>\n      <td>YEM</td>\n      <td>Yemen</td>\n      <td>Yemen, Rep.</td>\n      <td>Republic of Yemen</td>\n      <td>YE</td>\n      <td>Yemeni rial</td>\n      <td>Based on official government statistics and In...</td>\n      <td>Middle East &amp; North Africa</td>\n      <td>Lower middle income</td>\n      <td>RY</td>\n      <td>...</td>\n      <td>General Data Dissemination System (GDDS)</td>\n      <td>2004</td>\n      <td>Demographic and Health Survey (DHS), 2013</td>\n      <td>Expenditure survey/budget survey (ES/BS), 2005</td>\n      <td>NaN</td>\n      <td>NaN</td>\n      <td>2006.0</td>\n      <td>2012.0</td>\n      <td>2005</td>\n      <td>NaN</td>\n    </tr>\n    <tr>\n      <th>238</th>\n      <td>ZAF</td>\n      <td>South Africa</td>\n      <td>South Africa</td>\n      <td>Republic of South Africa</td>\n      <td>ZA</td>\n      <td>South African rand</td>\n      <td>Fiscal year end: March 31; reporting period fo...</td>\n      <td>Sub-Saharan Africa</td>\n      <td>Upper middle income</td>\n      <td>ZA</td>\n      <td>...</td>\n      <td>Special Data Dissemination Standard (SDDS)</td>\n      <td>2011</td>\n      <td>Demographic and Health Survey (DHS), 2003; Wor...</td>\n      <td>Expenditure survey/budget survey (ES/BS), 2010</td>\n      <td>NaN</td>\n      <td>2007</td>\n      <td>2010.0</td>\n      <td>2012.0</td>\n      <td>2000</td>\n      <td>NaN</td>\n    </tr>\n    <tr>\n      <th>239</th>\n      <td>ZMB</td>\n      <td>Zambia</td>\n      <td>Zambia</td>\n      <td>Republic of Zambia</td>\n      <td>ZM</td>\n      <td>New Zambian kwacha</td>\n      <td>National accounts data have rebased to reflect...</td>\n      <td>Sub-Saharan Africa</td>\n      <td>Lower middle income</td>\n      <td>ZM</td>\n      <td>...</td>\n      <td>General Data Dissemination System (GDDS)</td>\n      <td>2010</td>\n      <td>Demographic and Health Survey (DHS), 2013</td>\n      <td>Integrated household survey (IHS), 2010</td>\n      <td>NaN</td>\n      <td>2010. Population and Housing Census.</td>\n      <td>NaN</td>\n      <td>2011.0</td>\n      <td>2002</td>\n      <td>NaN</td>\n    </tr>\n    <tr>\n      <th>240</th>\n      <td>ZWE</td>\n      <td>Zimbabwe</td>\n      <td>Zimbabwe</td>\n      <td>Republic of Zimbabwe</td>\n      <td>ZW</td>\n      <td>U.S. dollar</td>\n      <td>Fiscal year end: June 30; reporting period for...</td>\n      <td>Sub-Saharan Africa</td>\n      <td>Low income</td>\n      <td>ZW</td>\n      <td>...</td>\n      <td>General Data Dissemination System (GDDS)</td>\n      <td>2012</td>\n      <td>Demographic and Health Survey (DHS), 2010/11</td>\n      <td>Integrated household survey (IHS), 2011/12</td>\n      <td>NaN</td>\n      <td>NaN</td>\n      <td>NaN</td>\n      <td>2012.0</td>\n      <td>2002</td>\n      <td>NaN</td>\n    </tr>\n  </tbody>\n</table>\n<p>241 rows × 32 columns</p>\n</div>"
     },
     "metadata": {},
     "execution_count": 13
    }
   ],
   "source": [
    "df_country = pd.read_csv(r\"C:/Users/swati/Desktop/Project/EdStatsCountry.csv\")\n",
    "df_country"
   ]
  },
  {
   "cell_type": "code",
   "execution_count": 14,
   "metadata": {},
   "outputs": [
    {
     "output_type": "execute_result",
     "data": {
      "text/plain": [
       "       National accounts reference year  Latest industrial data  \\\n",
       "count                          32.00000              107.000000   \n",
       "mean                         2001.53125             2008.102804   \n",
       "std                             5.24856                2.616834   \n",
       "min                          1987.00000             2000.000000   \n",
       "25%                          1996.75000             2007.500000   \n",
       "50%                          2002.00000             2009.000000   \n",
       "75%                          2005.00000             2010.000000   \n",
       "max                          2012.00000             2010.000000   \n",
       "\n",
       "       Latest trade data  Unnamed: 31  \n",
       "count         185.000000          0.0  \n",
       "mean         2010.994595          NaN  \n",
       "std             2.569675          NaN  \n",
       "min          1995.000000          NaN  \n",
       "25%          2011.000000          NaN  \n",
       "50%          2012.000000          NaN  \n",
       "75%          2012.000000          NaN  \n",
       "max          2012.000000          NaN  "
      ],
      "text/html": "<div>\n<style scoped>\n    .dataframe tbody tr th:only-of-type {\n        vertical-align: middle;\n    }\n\n    .dataframe tbody tr th {\n        vertical-align: top;\n    }\n\n    .dataframe thead th {\n        text-align: right;\n    }\n</style>\n<table border=\"1\" class=\"dataframe\">\n  <thead>\n    <tr style=\"text-align: right;\">\n      <th></th>\n      <th>National accounts reference year</th>\n      <th>Latest industrial data</th>\n      <th>Latest trade data</th>\n      <th>Unnamed: 31</th>\n    </tr>\n  </thead>\n  <tbody>\n    <tr>\n      <th>count</th>\n      <td>32.00000</td>\n      <td>107.000000</td>\n      <td>185.000000</td>\n      <td>0.0</td>\n    </tr>\n    <tr>\n      <th>mean</th>\n      <td>2001.53125</td>\n      <td>2008.102804</td>\n      <td>2010.994595</td>\n      <td>NaN</td>\n    </tr>\n    <tr>\n      <th>std</th>\n      <td>5.24856</td>\n      <td>2.616834</td>\n      <td>2.569675</td>\n      <td>NaN</td>\n    </tr>\n    <tr>\n      <th>min</th>\n      <td>1987.00000</td>\n      <td>2000.000000</td>\n      <td>1995.000000</td>\n      <td>NaN</td>\n    </tr>\n    <tr>\n      <th>25%</th>\n      <td>1996.75000</td>\n      <td>2007.500000</td>\n      <td>2011.000000</td>\n      <td>NaN</td>\n    </tr>\n    <tr>\n      <th>50%</th>\n      <td>2002.00000</td>\n      <td>2009.000000</td>\n      <td>2012.000000</td>\n      <td>NaN</td>\n    </tr>\n    <tr>\n      <th>75%</th>\n      <td>2005.00000</td>\n      <td>2010.000000</td>\n      <td>2012.000000</td>\n      <td>NaN</td>\n    </tr>\n    <tr>\n      <th>max</th>\n      <td>2012.00000</td>\n      <td>2010.000000</td>\n      <td>2012.000000</td>\n      <td>NaN</td>\n    </tr>\n  </tbody>\n</table>\n</div>"
     },
     "metadata": {},
     "execution_count": 14
    }
   ],
   "source": [
    "# Pandas describe() is used to view some basic statistical details like percentile, mean, std etc. of a data frame or a series of numeric values\n",
    "df_country.describe()"
   ]
  },
  {
   "source": [
    "### Finding the null values"
   ],
   "cell_type": "markdown",
   "metadata": {}
  },
  {
   "cell_type": "code",
   "execution_count": 15,
   "metadata": {},
   "outputs": [
    {
     "output_type": "execute_result",
     "data": {
      "text/plain": [
       "Country Code                                           0\n",
       "Short Name                                             0\n",
       "Table Name                                             0\n",
       "Long Name                                              0\n",
       "2-alpha code                                           3\n",
       "Currency Unit                                         26\n",
       "Special Notes                                         96\n",
       "Region                                                27\n",
       "Income Group                                          27\n",
       "WB-2 code                                              1\n",
       "National accounts base year                           36\n",
       "National accounts reference year                     209\n",
       "SNA price valuation                                   44\n",
       "Lending category                                      97\n",
       "Other groups                                         183\n",
       "System of National Accounts                           26\n",
       "Alternative conversion factor                        194\n",
       "PPP survey year                                       96\n",
       "Balance of Payments Manual in use                     60\n",
       "External debt Reporting status                       117\n",
       "System of trade                                       41\n",
       "Government Accounting concept                         80\n",
       "IMF data dissemination standard                       60\n",
       "Latest population census                              28\n",
       "Latest household survey                              100\n",
       "Source of most recent Income and expenditure data     81\n",
       "Vital registration complete                          130\n",
       "Latest agricultural census                            99\n",
       "Latest industrial data                               134\n",
       "Latest trade data                                     56\n",
       "Latest water withdrawal data                          62\n",
       "Unnamed: 31                                          241\n",
       "dtype: int64"
      ]
     },
     "metadata": {},
     "execution_count": 15
    }
   ],
   "source": [
    "df_country.isnull().sum()"
   ]
  },
  {
   "cell_type": "code",
   "execution_count": 16,
   "metadata": {},
   "outputs": [
    {
     "output_type": "execute_result",
     "data": {
      "text/plain": [
       "(241, 32)"
      ]
     },
     "metadata": {},
     "execution_count": 16
    }
   ],
   "source": [
    "df_country.shape"
   ]
  },
  {
   "cell_type": "code",
   "execution_count": 17,
   "metadata": {},
   "outputs": [
    {
     "output_type": "execute_result",
     "data": {
      "text/plain": [
       "(241, 32)"
      ]
     },
     "metadata": {},
     "execution_count": 17
    }
   ],
   "source": [
    "#  drop_duplicates() method helps in removing duplicates from the data frame.\n",
    "df_country.drop_duplicates()\n",
    "df_country.shape"
   ]
  },
  {
   "cell_type": "code",
   "execution_count": 18,
   "metadata": {},
   "outputs": [
    {
     "output_type": "stream",
     "name": "stdout",
     "text": [
      "<class 'pandas.core.frame.DataFrame'>\nRangeIndex: 241 entries, 0 to 240\nData columns (total 32 columns):\n #   Column                                             Non-Null Count  Dtype  \n---  ------                                             --------------  -----  \n 0   Country Code                                       241 non-null    object \n 1   Short Name                                         241 non-null    object \n 2   Table Name                                         241 non-null    object \n 3   Long Name                                          241 non-null    object \n 4   2-alpha code                                       238 non-null    object \n 5   Currency Unit                                      215 non-null    object \n 6   Special Notes                                      145 non-null    object \n 7   Region                                             214 non-null    object \n 8   Income Group                                       214 non-null    object \n 9   WB-2 code                                          240 non-null    object \n 10  National accounts base year                        205 non-null    object \n 11  National accounts reference year                   32 non-null     float64\n 12  SNA price valuation                                197 non-null    object \n 13  Lending category                                   144 non-null    object \n 14  Other groups                                       58 non-null     object \n 15  System of National Accounts                        215 non-null    object \n 16  Alternative conversion factor                      47 non-null     object \n 17  PPP survey year                                    145 non-null    object \n 18  Balance of Payments Manual in use                  181 non-null    object \n 19  External debt Reporting status                     124 non-null    object \n 20  System of trade                                    200 non-null    object \n 21  Government Accounting concept                      161 non-null    object \n 22  IMF data dissemination standard                    181 non-null    object \n 23  Latest population census                           213 non-null    object \n 24  Latest household survey                            141 non-null    object \n 25  Source of most recent Income and expenditure data  160 non-null    object \n 26  Vital registration complete                        111 non-null    object \n 27  Latest agricultural census                         142 non-null    object \n 28  Latest industrial data                             107 non-null    float64\n 29  Latest trade data                                  185 non-null    float64\n 30  Latest water withdrawal data                       179 non-null    object \n 31  Unnamed: 31                                        0 non-null      float64\ndtypes: float64(4), object(28)\nmemory usage: 34.0+ KB\n"
     ]
    }
   ],
   "source": [
    "# info() - gives you more information about the data set.\n",
    "\n",
    "# And the name of each column, with the data type\n",
    "df_country.info()"
   ]
  },
  {
   "source": [
    "### Drop un-necessary columns"
   ],
   "cell_type": "markdown",
   "metadata": {}
  },
  {
   "cell_type": "code",
   "execution_count": 19,
   "metadata": {},
   "outputs": [
    {
     "output_type": "execute_result",
     "data": {
      "text/plain": [
       "  Country Code   Short Name   Table Name                     Long Name  \\\n",
       "0          ABW        Aruba        Aruba                         Aruba   \n",
       "1          AFG  Afghanistan  Afghanistan  Islamic State of Afghanistan   \n",
       "2          AGO       Angola       Angola   People's Republic of Angola   \n",
       "3          ALB      Albania      Albania           Republic of Albania   \n",
       "4          AND      Andorra      Andorra       Principality of Andorra   \n",
       "\n",
       "  2-alpha code   Currency Unit                     Region  \\\n",
       "0           AW   Aruban florin  Latin America & Caribbean   \n",
       "1           AF  Afghan afghani                 South Asia   \n",
       "2           AO  Angolan kwanza         Sub-Saharan Africa   \n",
       "3           AL    Albanian lek      Europe & Central Asia   \n",
       "4           AD            Euro      Europe & Central Asia   \n",
       "\n",
       "           Income Group WB-2 code  \\\n",
       "0  High income: nonOECD        AW   \n",
       "1            Low income        AF   \n",
       "2   Upper middle income        AO   \n",
       "3   Upper middle income        AL   \n",
       "4  High income: nonOECD        AD   \n",
       "\n",
       "                         National accounts base year  \\\n",
       "0                                               2000   \n",
       "1                                            2002/03   \n",
       "2                                               2002   \n",
       "3  Original chained constant price data are resca...   \n",
       "4                                               1990   \n",
       "\n",
       "                    SNA price valuation  \\\n",
       "0     Value added at basic prices (VAB)   \n",
       "1     Value added at basic prices (VAB)   \n",
       "2  Value added at producer prices (VAP)   \n",
       "3     Value added at basic prices (VAB)   \n",
       "4                                   NaN   \n",
       "\n",
       "                         System of National Accounts  \\\n",
       "0  Country uses the 1993 System of National Accou...   \n",
       "1  Country uses the 1993 System of National Accou...   \n",
       "2  Country uses the 1993 System of National Accou...   \n",
       "3  Country uses the 1993 System of National Accou...   \n",
       "4  Country uses the 1968 System of National Accou...   \n",
       "\n",
       "              Balance of Payments Manual in use       System of trade  \\\n",
       "0  IMF Balance of Payments Manual, 6th edition.  Special trade system   \n",
       "1                                           NaN  General trade system   \n",
       "2  IMF Balance of Payments Manual, 6th edition.  Special trade system   \n",
       "3  IMF Balance of Payments Manual, 6th edition.  General trade system   \n",
       "4                                           NaN  Special trade system   \n",
       "\n",
       "     Government Accounting concept           IMF data dissemination standard  \\\n",
       "0                              NaN                                       NaN   \n",
       "1  Consolidated central government  General Data Dissemination System (GDDS)   \n",
       "2     Budgetary central government  General Data Dissemination System (GDDS)   \n",
       "3     Budgetary central government  General Data Dissemination System (GDDS)   \n",
       "4                              NaN                                       NaN   \n",
       "\n",
       "                            Latest population census  \\\n",
       "0                                               2010   \n",
       "1                                               1979   \n",
       "2                                               1970   \n",
       "3                                               2011   \n",
       "4  2011. Population figures compiled from adminis...   \n",
       "\n",
       "   Source of most recent Income and expenditure data  Latest trade data  \\\n",
       "0                                                NaN             2012.0   \n",
       "1            Integrated household survey (IHS), 2008             2012.0   \n",
       "2            Integrated household survey (IHS), 2008                NaN   \n",
       "3  Living Standards Measurement Study Survey (LSM...             2012.0   \n",
       "4                                                NaN             2006.0   \n",
       "\n",
       "  Latest water withdrawal data  \n",
       "0                          NaN  \n",
       "1                         2000  \n",
       "2                         2005  \n",
       "3                         2006  \n",
       "4                          NaN  "
      ],
      "text/html": "<div>\n<style scoped>\n    .dataframe tbody tr th:only-of-type {\n        vertical-align: middle;\n    }\n\n    .dataframe tbody tr th {\n        vertical-align: top;\n    }\n\n    .dataframe thead th {\n        text-align: right;\n    }\n</style>\n<table border=\"1\" class=\"dataframe\">\n  <thead>\n    <tr style=\"text-align: right;\">\n      <th></th>\n      <th>Country Code</th>\n      <th>Short Name</th>\n      <th>Table Name</th>\n      <th>Long Name</th>\n      <th>2-alpha code</th>\n      <th>Currency Unit</th>\n      <th>Region</th>\n      <th>Income Group</th>\n      <th>WB-2 code</th>\n      <th>National accounts base year</th>\n      <th>SNA price valuation</th>\n      <th>System of National Accounts</th>\n      <th>Balance of Payments Manual in use</th>\n      <th>System of trade</th>\n      <th>Government Accounting concept</th>\n      <th>IMF data dissemination standard</th>\n      <th>Latest population census</th>\n      <th>Source of most recent Income and expenditure data</th>\n      <th>Latest trade data</th>\n      <th>Latest water withdrawal data</th>\n    </tr>\n  </thead>\n  <tbody>\n    <tr>\n      <th>0</th>\n      <td>ABW</td>\n      <td>Aruba</td>\n      <td>Aruba</td>\n      <td>Aruba</td>\n      <td>AW</td>\n      <td>Aruban florin</td>\n      <td>Latin America &amp; Caribbean</td>\n      <td>High income: nonOECD</td>\n      <td>AW</td>\n      <td>2000</td>\n      <td>Value added at basic prices (VAB)</td>\n      <td>Country uses the 1993 System of National Accou...</td>\n      <td>IMF Balance of Payments Manual, 6th edition.</td>\n      <td>Special trade system</td>\n      <td>NaN</td>\n      <td>NaN</td>\n      <td>2010</td>\n      <td>NaN</td>\n      <td>2012.0</td>\n      <td>NaN</td>\n    </tr>\n    <tr>\n      <th>1</th>\n      <td>AFG</td>\n      <td>Afghanistan</td>\n      <td>Afghanistan</td>\n      <td>Islamic State of Afghanistan</td>\n      <td>AF</td>\n      <td>Afghan afghani</td>\n      <td>South Asia</td>\n      <td>Low income</td>\n      <td>AF</td>\n      <td>2002/03</td>\n      <td>Value added at basic prices (VAB)</td>\n      <td>Country uses the 1993 System of National Accou...</td>\n      <td>NaN</td>\n      <td>General trade system</td>\n      <td>Consolidated central government</td>\n      <td>General Data Dissemination System (GDDS)</td>\n      <td>1979</td>\n      <td>Integrated household survey (IHS), 2008</td>\n      <td>2012.0</td>\n      <td>2000</td>\n    </tr>\n    <tr>\n      <th>2</th>\n      <td>AGO</td>\n      <td>Angola</td>\n      <td>Angola</td>\n      <td>People's Republic of Angola</td>\n      <td>AO</td>\n      <td>Angolan kwanza</td>\n      <td>Sub-Saharan Africa</td>\n      <td>Upper middle income</td>\n      <td>AO</td>\n      <td>2002</td>\n      <td>Value added at producer prices (VAP)</td>\n      <td>Country uses the 1993 System of National Accou...</td>\n      <td>IMF Balance of Payments Manual, 6th edition.</td>\n      <td>Special trade system</td>\n      <td>Budgetary central government</td>\n      <td>General Data Dissemination System (GDDS)</td>\n      <td>1970</td>\n      <td>Integrated household survey (IHS), 2008</td>\n      <td>NaN</td>\n      <td>2005</td>\n    </tr>\n    <tr>\n      <th>3</th>\n      <td>ALB</td>\n      <td>Albania</td>\n      <td>Albania</td>\n      <td>Republic of Albania</td>\n      <td>AL</td>\n      <td>Albanian lek</td>\n      <td>Europe &amp; Central Asia</td>\n      <td>Upper middle income</td>\n      <td>AL</td>\n      <td>Original chained constant price data are resca...</td>\n      <td>Value added at basic prices (VAB)</td>\n      <td>Country uses the 1993 System of National Accou...</td>\n      <td>IMF Balance of Payments Manual, 6th edition.</td>\n      <td>General trade system</td>\n      <td>Budgetary central government</td>\n      <td>General Data Dissemination System (GDDS)</td>\n      <td>2011</td>\n      <td>Living Standards Measurement Study Survey (LSM...</td>\n      <td>2012.0</td>\n      <td>2006</td>\n    </tr>\n    <tr>\n      <th>4</th>\n      <td>AND</td>\n      <td>Andorra</td>\n      <td>Andorra</td>\n      <td>Principality of Andorra</td>\n      <td>AD</td>\n      <td>Euro</td>\n      <td>Europe &amp; Central Asia</td>\n      <td>High income: nonOECD</td>\n      <td>AD</td>\n      <td>1990</td>\n      <td>NaN</td>\n      <td>Country uses the 1968 System of National Accou...</td>\n      <td>NaN</td>\n      <td>Special trade system</td>\n      <td>NaN</td>\n      <td>NaN</td>\n      <td>2011. Population figures compiled from adminis...</td>\n      <td>NaN</td>\n      <td>2006.0</td>\n      <td>NaN</td>\n    </tr>\n  </tbody>\n</table>\n</div>"
     },
     "metadata": {},
     "execution_count": 19
    }
   ],
   "source": [
    "df_country.drop(['National accounts reference year', 'Other groups', 'Alternative conversion factor', 'External debt Reporting status', 'Latest household survey', 'Vital registration complete', 'Latest industrial data', 'Unnamed: 31', 'Special Notes', 'Lending category', 'PPP survey year', 'Latest agricultural census'], axis=1, inplace=True)\n",
    "df_country.head()"
   ]
  },
  {
   "cell_type": "code",
   "execution_count": 20,
   "metadata": {},
   "outputs": [],
   "source": [
    "df_country.dropna(inplace=True)"
   ]
  },
  {
   "cell_type": "code",
   "execution_count": 21,
   "metadata": {},
   "outputs": [
    {
     "output_type": "execute_result",
     "data": {
      "text/plain": [
       "(126, 20)"
      ]
     },
     "metadata": {},
     "execution_count": 21
    }
   ],
   "source": [
    "df_country.shape"
   ]
  },
  {
   "cell_type": "code",
   "execution_count": 22,
   "metadata": {},
   "outputs": [
    {
     "output_type": "execute_result",
     "data": {
      "text/plain": [
       "Index(['Country Code', 'Short Name', 'Table Name', 'Long Name', '2-alpha code',\n",
       "       'Currency Unit', 'Region', 'Income Group', 'WB-2 code',\n",
       "       'National accounts base year', 'SNA price valuation',\n",
       "       'System of National Accounts', 'Balance of Payments Manual in use',\n",
       "       'System of trade', 'Government Accounting concept',\n",
       "       'IMF data dissemination standard', 'Latest population census',\n",
       "       'Source of most recent Income and expenditure data',\n",
       "       'Latest trade data', 'Latest water withdrawal data'],\n",
       "      dtype='object')"
      ]
     },
     "metadata": {},
     "execution_count": 22
    }
   ],
   "source": [
    "df_country.columns"
   ]
  },
  {
   "cell_type": "code",
   "execution_count": 23,
   "metadata": {},
   "outputs": [
    {
     "output_type": "stream",
     "name": "stdout",
     "text": [
      "<class 'pandas.core.frame.DataFrame'>\nInt64Index: 126 entries, 3 to 240\nData columns (total 20 columns):\n #   Column                                             Non-Null Count  Dtype  \n---  ------                                             --------------  -----  \n 0   Country Code                                       126 non-null    object \n 1   Short Name                                         126 non-null    object \n 2   Table Name                                         126 non-null    object \n 3   Long Name                                          126 non-null    object \n 4   2-alpha code                                       126 non-null    object \n 5   Currency Unit                                      126 non-null    object \n 6   Region                                             126 non-null    object \n 7   Income Group                                       126 non-null    object \n 8   WB-2 code                                          126 non-null    object \n 9   National accounts base year                        126 non-null    object \n 10  SNA price valuation                                126 non-null    object \n 11  System of National Accounts                        126 non-null    object \n 12  Balance of Payments Manual in use                  126 non-null    object \n 13  System of trade                                    126 non-null    object \n 14  Government Accounting concept                      126 non-null    object \n 15  IMF data dissemination standard                    126 non-null    object \n 16  Latest population census                           126 non-null    object \n 17  Source of most recent Income and expenditure data  126 non-null    object \n 18  Latest trade data                                  126 non-null    float64\n 19  Latest water withdrawal data                       126 non-null    object \ndtypes: float64(1), object(19)\nmemory usage: 11.3+ KB\n"
     ]
    }
   ],
   "source": [
    "# info() - gives you more information about the data set.\n",
    "\n",
    "# And the name of each column, with the data type\n",
    "df_country.info()"
   ]
  },
  {
   "source": [
    "## Reading EdStatsCountry-Series.csv file"
   ],
   "cell_type": "markdown",
   "metadata": {}
  },
  {
   "cell_type": "code",
   "execution_count": 24,
   "metadata": {},
   "outputs": [
    {
     "output_type": "execute_result",
     "data": {
      "text/plain": [
       "    CountryCode         SeriesCode  \\\n",
       "0           ABW        SP.POP.TOTL   \n",
       "1           ABW        SP.POP.GROW   \n",
       "2           AFG        SP.POP.GROW   \n",
       "3           AFG  NY.GDP.PCAP.PP.CD   \n",
       "4           AFG        SP.POP.TOTL   \n",
       "..          ...                ...   \n",
       "608         ZAF        SP.POP.GROW   \n",
       "609         ZMB        SP.POP.GROW   \n",
       "610         ZMB        SP.POP.TOTL   \n",
       "611         ZWE        SP.POP.TOTL   \n",
       "612         ZWE        SP.POP.GROW   \n",
       "\n",
       "                                           DESCRIPTION  Unnamed: 3  \n",
       "0    Data sources : United Nations World Population...         NaN  \n",
       "1    Data sources: United Nations World Population ...         NaN  \n",
       "2    Data sources: United Nations World Population ...         NaN  \n",
       "3                   Estimates are based on regression.         NaN  \n",
       "4    Data sources : United Nations World Population...         NaN  \n",
       "..                                                 ...         ...  \n",
       "608  Data sources : Statistics South Africa, United...         NaN  \n",
       "609  Data sources: United Nations World Population ...         NaN  \n",
       "610  Data sources : United Nations World Population...         NaN  \n",
       "611  Data sources : United Nations World Population...         NaN  \n",
       "612  Data sources: United Nations World Population ...         NaN  \n",
       "\n",
       "[613 rows x 4 columns]"
      ],
      "text/html": "<div>\n<style scoped>\n    .dataframe tbody tr th:only-of-type {\n        vertical-align: middle;\n    }\n\n    .dataframe tbody tr th {\n        vertical-align: top;\n    }\n\n    .dataframe thead th {\n        text-align: right;\n    }\n</style>\n<table border=\"1\" class=\"dataframe\">\n  <thead>\n    <tr style=\"text-align: right;\">\n      <th></th>\n      <th>CountryCode</th>\n      <th>SeriesCode</th>\n      <th>DESCRIPTION</th>\n      <th>Unnamed: 3</th>\n    </tr>\n  </thead>\n  <tbody>\n    <tr>\n      <th>0</th>\n      <td>ABW</td>\n      <td>SP.POP.TOTL</td>\n      <td>Data sources : United Nations World Population...</td>\n      <td>NaN</td>\n    </tr>\n    <tr>\n      <th>1</th>\n      <td>ABW</td>\n      <td>SP.POP.GROW</td>\n      <td>Data sources: United Nations World Population ...</td>\n      <td>NaN</td>\n    </tr>\n    <tr>\n      <th>2</th>\n      <td>AFG</td>\n      <td>SP.POP.GROW</td>\n      <td>Data sources: United Nations World Population ...</td>\n      <td>NaN</td>\n    </tr>\n    <tr>\n      <th>3</th>\n      <td>AFG</td>\n      <td>NY.GDP.PCAP.PP.CD</td>\n      <td>Estimates are based on regression.</td>\n      <td>NaN</td>\n    </tr>\n    <tr>\n      <th>4</th>\n      <td>AFG</td>\n      <td>SP.POP.TOTL</td>\n      <td>Data sources : United Nations World Population...</td>\n      <td>NaN</td>\n    </tr>\n    <tr>\n      <th>...</th>\n      <td>...</td>\n      <td>...</td>\n      <td>...</td>\n      <td>...</td>\n    </tr>\n    <tr>\n      <th>608</th>\n      <td>ZAF</td>\n      <td>SP.POP.GROW</td>\n      <td>Data sources : Statistics South Africa, United...</td>\n      <td>NaN</td>\n    </tr>\n    <tr>\n      <th>609</th>\n      <td>ZMB</td>\n      <td>SP.POP.GROW</td>\n      <td>Data sources: United Nations World Population ...</td>\n      <td>NaN</td>\n    </tr>\n    <tr>\n      <th>610</th>\n      <td>ZMB</td>\n      <td>SP.POP.TOTL</td>\n      <td>Data sources : United Nations World Population...</td>\n      <td>NaN</td>\n    </tr>\n    <tr>\n      <th>611</th>\n      <td>ZWE</td>\n      <td>SP.POP.TOTL</td>\n      <td>Data sources : United Nations World Population...</td>\n      <td>NaN</td>\n    </tr>\n    <tr>\n      <th>612</th>\n      <td>ZWE</td>\n      <td>SP.POP.GROW</td>\n      <td>Data sources: United Nations World Population ...</td>\n      <td>NaN</td>\n    </tr>\n  </tbody>\n</table>\n<p>613 rows × 4 columns</p>\n</div>"
     },
     "metadata": {},
     "execution_count": 24
    }
   ],
   "source": [
    "df_country_series = pd.read_csv(r\"C:/Users/swati/Desktop/Project/EdStatsCountry-Series.csv\")\n",
    "df_country_series"
   ]
  },
  {
   "cell_type": "code",
   "execution_count": 25,
   "metadata": {},
   "outputs": [
    {
     "output_type": "execute_result",
     "data": {
      "text/plain": [
       "(613, 4)"
      ]
     },
     "metadata": {},
     "execution_count": 25
    }
   ],
   "source": [
    "df_country_series.shape"
   ]
  },
  {
   "cell_type": "code",
   "execution_count": 26,
   "metadata": {},
   "outputs": [
    {
     "output_type": "stream",
     "name": "stdout",
     "text": [
      "<class 'pandas.core.frame.DataFrame'>\nRangeIndex: 613 entries, 0 to 612\nData columns (total 4 columns):\n #   Column       Non-Null Count  Dtype  \n---  ------       --------------  -----  \n 0   CountryCode  613 non-null    object \n 1   SeriesCode   613 non-null    object \n 2   DESCRIPTION  613 non-null    object \n 3   Unnamed: 3   0 non-null      float64\ndtypes: float64(1), object(3)\nmemory usage: 12.0+ KB\n"
     ]
    }
   ],
   "source": [
    "# info() - gives you more information about the data set.\n",
    "\n",
    "# And the name of each column, with the data type\n",
    "df_country_series.info()"
   ]
  },
  {
   "cell_type": "code",
   "execution_count": 27,
   "metadata": {},
   "outputs": [
    {
     "output_type": "execute_result",
     "data": {
      "text/plain": [
       "CountryCode      0\n",
       "SeriesCode       0\n",
       "DESCRIPTION      0\n",
       "Unnamed: 3     613\n",
       "dtype: int64"
      ]
     },
     "metadata": {},
     "execution_count": 27
    }
   ],
   "source": [
    "df_country_series.isnull().sum()"
   ]
  },
  {
   "cell_type": "code",
   "execution_count": 28,
   "metadata": {},
   "outputs": [
    {
     "output_type": "execute_result",
     "data": {
      "text/plain": [
       "(613, 4)"
      ]
     },
     "metadata": {},
     "execution_count": 28
    }
   ],
   "source": [
    "#  drop_duplicates() method helps in removing duplicates from the data frame.\n",
    "df_country.drop_duplicates()\n",
    "df_country_series.shape"
   ]
  },
  {
   "source": [
    "### Drop un-necessary columns"
   ],
   "cell_type": "markdown",
   "metadata": {}
  },
  {
   "cell_type": "code",
   "execution_count": 29,
   "metadata": {},
   "outputs": [
    {
     "output_type": "execute_result",
     "data": {
      "text/plain": [
       "  CountryCode         SeriesCode  \\\n",
       "0         ABW        SP.POP.TOTL   \n",
       "1         ABW        SP.POP.GROW   \n",
       "2         AFG        SP.POP.GROW   \n",
       "3         AFG  NY.GDP.PCAP.PP.CD   \n",
       "4         AFG        SP.POP.TOTL   \n",
       "\n",
       "                                         DESCRIPTION  \n",
       "0  Data sources : United Nations World Population...  \n",
       "1  Data sources: United Nations World Population ...  \n",
       "2  Data sources: United Nations World Population ...  \n",
       "3                 Estimates are based on regression.  \n",
       "4  Data sources : United Nations World Population...  "
      ],
      "text/html": "<div>\n<style scoped>\n    .dataframe tbody tr th:only-of-type {\n        vertical-align: middle;\n    }\n\n    .dataframe tbody tr th {\n        vertical-align: top;\n    }\n\n    .dataframe thead th {\n        text-align: right;\n    }\n</style>\n<table border=\"1\" class=\"dataframe\">\n  <thead>\n    <tr style=\"text-align: right;\">\n      <th></th>\n      <th>CountryCode</th>\n      <th>SeriesCode</th>\n      <th>DESCRIPTION</th>\n    </tr>\n  </thead>\n  <tbody>\n    <tr>\n      <th>0</th>\n      <td>ABW</td>\n      <td>SP.POP.TOTL</td>\n      <td>Data sources : United Nations World Population...</td>\n    </tr>\n    <tr>\n      <th>1</th>\n      <td>ABW</td>\n      <td>SP.POP.GROW</td>\n      <td>Data sources: United Nations World Population ...</td>\n    </tr>\n    <tr>\n      <th>2</th>\n      <td>AFG</td>\n      <td>SP.POP.GROW</td>\n      <td>Data sources: United Nations World Population ...</td>\n    </tr>\n    <tr>\n      <th>3</th>\n      <td>AFG</td>\n      <td>NY.GDP.PCAP.PP.CD</td>\n      <td>Estimates are based on regression.</td>\n    </tr>\n    <tr>\n      <th>4</th>\n      <td>AFG</td>\n      <td>SP.POP.TOTL</td>\n      <td>Data sources : United Nations World Population...</td>\n    </tr>\n  </tbody>\n</table>\n</div>"
     },
     "metadata": {},
     "execution_count": 29
    }
   ],
   "source": [
    "df_country_series.drop('Unnamed: 3', axis=1, inplace=True)\n",
    "df_country_series.head()"
   ]
  },
  {
   "cell_type": "code",
   "execution_count": 30,
   "metadata": {},
   "outputs": [],
   "source": [
    "df_country_series.dropna(inplace=True)"
   ]
  },
  {
   "cell_type": "code",
   "execution_count": 31,
   "metadata": {},
   "outputs": [
    {
     "output_type": "execute_result",
     "data": {
      "text/plain": [
       "(613, 3)"
      ]
     },
     "metadata": {},
     "execution_count": 31
    }
   ],
   "source": [
    "df_country_series.shape"
   ]
  },
  {
   "source": [
    "## Reading EdStatsFootNote.csv file"
   ],
   "cell_type": "markdown",
   "metadata": {}
  },
  {
   "cell_type": "code",
   "execution_count": 32,
   "metadata": {},
   "outputs": [
    {
     "output_type": "execute_result",
     "data": {
      "text/plain": [
       "       CountryCode      SeriesCode    Year  \\\n",
       "0              ABW  SE.PRE.ENRL.FE  YR2001   \n",
       "1              ABW  SE.TER.TCHR.FE  YR2005   \n",
       "2              ABW  SE.PRE.TCHR.FE  YR2000   \n",
       "3              ABW  SE.SEC.ENRL.GC  YR2004   \n",
       "4              ABW     SE.PRE.TCHR  YR2006   \n",
       "...            ...             ...     ...   \n",
       "643633         ZWE     SH.DYN.MORT  YR2007   \n",
       "643634         ZWE     SH.DYN.MORT  YR2014   \n",
       "643635         ZWE     SH.DYN.MORT  YR2015   \n",
       "643636         ZWE     SH.DYN.MORT  YR2017   \n",
       "643637         ZWE     SP.POP.GROW  YR2017   \n",
       "\n",
       "                                   DESCRIPTION  Unnamed: 4  \n",
       "0                          Country estimation.         NaN  \n",
       "1                          Country estimation.         NaN  \n",
       "2                          Country estimation.         NaN  \n",
       "3                          Country estimation.         NaN  \n",
       "4                          Country estimation.         NaN  \n",
       "...                                        ...         ...  \n",
       "643633       Uncertainty bound is 91.6 - 109.3         NaN  \n",
       "643634          Uncertainty bound is 54.3 - 76         NaN  \n",
       "643635        Uncertainty bound is 48.3 - 73.3         NaN  \n",
       "643636  5-year average value between 0s and 5s         NaN  \n",
       "643637  5-year average value between 0s and 5s         NaN  \n",
       "\n",
       "[643638 rows x 5 columns]"
      ],
      "text/html": "<div>\n<style scoped>\n    .dataframe tbody tr th:only-of-type {\n        vertical-align: middle;\n    }\n\n    .dataframe tbody tr th {\n        vertical-align: top;\n    }\n\n    .dataframe thead th {\n        text-align: right;\n    }\n</style>\n<table border=\"1\" class=\"dataframe\">\n  <thead>\n    <tr style=\"text-align: right;\">\n      <th></th>\n      <th>CountryCode</th>\n      <th>SeriesCode</th>\n      <th>Year</th>\n      <th>DESCRIPTION</th>\n      <th>Unnamed: 4</th>\n    </tr>\n  </thead>\n  <tbody>\n    <tr>\n      <th>0</th>\n      <td>ABW</td>\n      <td>SE.PRE.ENRL.FE</td>\n      <td>YR2001</td>\n      <td>Country estimation.</td>\n      <td>NaN</td>\n    </tr>\n    <tr>\n      <th>1</th>\n      <td>ABW</td>\n      <td>SE.TER.TCHR.FE</td>\n      <td>YR2005</td>\n      <td>Country estimation.</td>\n      <td>NaN</td>\n    </tr>\n    <tr>\n      <th>2</th>\n      <td>ABW</td>\n      <td>SE.PRE.TCHR.FE</td>\n      <td>YR2000</td>\n      <td>Country estimation.</td>\n      <td>NaN</td>\n    </tr>\n    <tr>\n      <th>3</th>\n      <td>ABW</td>\n      <td>SE.SEC.ENRL.GC</td>\n      <td>YR2004</td>\n      <td>Country estimation.</td>\n      <td>NaN</td>\n    </tr>\n    <tr>\n      <th>4</th>\n      <td>ABW</td>\n      <td>SE.PRE.TCHR</td>\n      <td>YR2006</td>\n      <td>Country estimation.</td>\n      <td>NaN</td>\n    </tr>\n    <tr>\n      <th>...</th>\n      <td>...</td>\n      <td>...</td>\n      <td>...</td>\n      <td>...</td>\n      <td>...</td>\n    </tr>\n    <tr>\n      <th>643633</th>\n      <td>ZWE</td>\n      <td>SH.DYN.MORT</td>\n      <td>YR2007</td>\n      <td>Uncertainty bound is 91.6 - 109.3</td>\n      <td>NaN</td>\n    </tr>\n    <tr>\n      <th>643634</th>\n      <td>ZWE</td>\n      <td>SH.DYN.MORT</td>\n      <td>YR2014</td>\n      <td>Uncertainty bound is 54.3 - 76</td>\n      <td>NaN</td>\n    </tr>\n    <tr>\n      <th>643635</th>\n      <td>ZWE</td>\n      <td>SH.DYN.MORT</td>\n      <td>YR2015</td>\n      <td>Uncertainty bound is 48.3 - 73.3</td>\n      <td>NaN</td>\n    </tr>\n    <tr>\n      <th>643636</th>\n      <td>ZWE</td>\n      <td>SH.DYN.MORT</td>\n      <td>YR2017</td>\n      <td>5-year average value between 0s and 5s</td>\n      <td>NaN</td>\n    </tr>\n    <tr>\n      <th>643637</th>\n      <td>ZWE</td>\n      <td>SP.POP.GROW</td>\n      <td>YR2017</td>\n      <td>5-year average value between 0s and 5s</td>\n      <td>NaN</td>\n    </tr>\n  </tbody>\n</table>\n<p>643638 rows × 5 columns</p>\n</div>"
     },
     "metadata": {},
     "execution_count": 32
    }
   ],
   "source": [
    "df_foot_note = pd.read_csv(r\"C:/Users/swati/Desktop/Project/EdStatsFootNote.csv\")\n",
    "df_foot_note"
   ]
  },
  {
   "cell_type": "code",
   "execution_count": 33,
   "metadata": {},
   "outputs": [
    {
     "output_type": "stream",
     "name": "stdout",
     "text": [
      "<class 'pandas.core.frame.DataFrame'>\nRangeIndex: 643638 entries, 0 to 643637\nData columns (total 5 columns):\n #   Column       Non-Null Count   Dtype  \n---  ------       --------------   -----  \n 0   CountryCode  643638 non-null  object \n 1   SeriesCode   643638 non-null  object \n 2   Year         643638 non-null  object \n 3   DESCRIPTION  643638 non-null  object \n 4   Unnamed: 4   0 non-null       float64\ndtypes: float64(1), object(4)\nmemory usage: 14.7+ MB\n"
     ]
    }
   ],
   "source": [
    "# info() - gives you more information about the data set.\n",
    "\n",
    "# And the name of each column, with the data type\n",
    "\n",
    "df_foot_note.info()"
   ]
  },
  {
   "cell_type": "code",
   "execution_count": 34,
   "metadata": {},
   "outputs": [
    {
     "output_type": "execute_result",
     "data": {
      "text/plain": [
       "(643638, 5)"
      ]
     },
     "metadata": {},
     "execution_count": 34
    }
   ],
   "source": [
    "# DataFrame stores the number of rows and columns as a tuple (number of rows, number of columns)\n",
    "\n",
    "df_foot_note.shape"
   ]
  },
  {
   "source": [
    "### Drop un-necessary columns"
   ],
   "cell_type": "markdown",
   "metadata": {}
  },
  {
   "cell_type": "code",
   "execution_count": 35,
   "metadata": {},
   "outputs": [
    {
     "output_type": "execute_result",
     "data": {
      "text/plain": [
       "  CountryCode      SeriesCode    Year          DESCRIPTION\n",
       "0         ABW  SE.PRE.ENRL.FE  YR2001  Country estimation.\n",
       "1         ABW  SE.TER.TCHR.FE  YR2005  Country estimation.\n",
       "2         ABW  SE.PRE.TCHR.FE  YR2000  Country estimation.\n",
       "3         ABW  SE.SEC.ENRL.GC  YR2004  Country estimation.\n",
       "4         ABW     SE.PRE.TCHR  YR2006  Country estimation."
      ],
      "text/html": "<div>\n<style scoped>\n    .dataframe tbody tr th:only-of-type {\n        vertical-align: middle;\n    }\n\n    .dataframe tbody tr th {\n        vertical-align: top;\n    }\n\n    .dataframe thead th {\n        text-align: right;\n    }\n</style>\n<table border=\"1\" class=\"dataframe\">\n  <thead>\n    <tr style=\"text-align: right;\">\n      <th></th>\n      <th>CountryCode</th>\n      <th>SeriesCode</th>\n      <th>Year</th>\n      <th>DESCRIPTION</th>\n    </tr>\n  </thead>\n  <tbody>\n    <tr>\n      <th>0</th>\n      <td>ABW</td>\n      <td>SE.PRE.ENRL.FE</td>\n      <td>YR2001</td>\n      <td>Country estimation.</td>\n    </tr>\n    <tr>\n      <th>1</th>\n      <td>ABW</td>\n      <td>SE.TER.TCHR.FE</td>\n      <td>YR2005</td>\n      <td>Country estimation.</td>\n    </tr>\n    <tr>\n      <th>2</th>\n      <td>ABW</td>\n      <td>SE.PRE.TCHR.FE</td>\n      <td>YR2000</td>\n      <td>Country estimation.</td>\n    </tr>\n    <tr>\n      <th>3</th>\n      <td>ABW</td>\n      <td>SE.SEC.ENRL.GC</td>\n      <td>YR2004</td>\n      <td>Country estimation.</td>\n    </tr>\n    <tr>\n      <th>4</th>\n      <td>ABW</td>\n      <td>SE.PRE.TCHR</td>\n      <td>YR2006</td>\n      <td>Country estimation.</td>\n    </tr>\n  </tbody>\n</table>\n</div>"
     },
     "metadata": {},
     "execution_count": 35
    }
   ],
   "source": [
    "df_foot_note.drop('Unnamed: 4', axis=1, inplace=True)\n",
    "\n",
    "# The head() method returns the headers and a specified number of rows, starting from the top.\n",
    "df_foot_note.head()"
   ]
  },
  {
   "cell_type": "code",
   "execution_count": 36,
   "metadata": {},
   "outputs": [],
   "source": [
    "df_foot_note.dropna(inplace=True)"
   ]
  },
  {
   "cell_type": "code",
   "execution_count": 37,
   "metadata": {},
   "outputs": [
    {
     "output_type": "execute_result",
     "data": {
      "text/plain": [
       "(643638, 4)"
      ]
     },
     "metadata": {},
     "execution_count": 37
    }
   ],
   "source": [
    "df_foot_note.shape"
   ]
  },
  {
   "cell_type": "code",
   "execution_count": 38,
   "metadata": {},
   "outputs": [
    {
     "output_type": "stream",
     "name": "stderr",
     "text": [
      "Summarize dataset: 100%|██████████| 34/34 [00:22<00:00,  1.51it/s, Completed]\n",
      "Generate report structure: 100%|██████████| 1/1 [00:27<00:00, 27.66s/it]\n",
      "Render HTML: 100%|██████████| 1/1 [00:03<00:00,  3.65s/it]\n",
      "Export report to file: 100%|██████████| 1/1 [00:00<00:00, 41.67it/s]\n"
     ]
    }
   ],
   "source": [
    "# pip install pandas-profiling  (we can quickly do an EDA and generate EDA report)\n",
    "# pip install U-wbdata (information from the World Bank's various databases)\n",
    "from pandas_profiling import ProfileReport\n",
    "\n",
    "# Generate Report of df_country.csv file\n",
    "profile= ProfileReport(df_country)\n",
    "profile.to_file(output_file=\"country.html\")"
   ]
  },
  {
   "cell_type": "code",
   "execution_count": 39,
   "metadata": {},
   "outputs": [
    {
     "output_type": "stream",
     "name": "stderr",
     "text": [
      "Summarize dataset: 100%|██████████| 20/20 [00:05<00:00,  4.00it/s, Completed]\n",
      "Generate report structure: 100%|██████████| 1/1 [00:09<00:00,  9.63s/it]\n",
      "Render HTML: 100%|██████████| 1/1 [00:01<00:00,  1.11s/it]\n",
      "Export report to file: 100%|██████████| 1/1 [00:00<00:00, 62.51it/s]\n"
     ]
    }
   ],
   "source": [
    "# Generate Report of df_series.csv file\n",
    "profile= ProfileReport(df_series)\n",
    "profile.to_file(output_file=\"series.html\")"
   ]
  },
  {
   "cell_type": "code",
   "execution_count": 40,
   "metadata": {},
   "outputs": [
    {
     "output_type": "stream",
     "name": "stderr",
     "text": [
      "Summarize dataset: 100%|██████████| 16/16 [00:02<00:00,  7.55it/s, Completed]\n",
      "Generate report structure: 100%|██████████| 1/1 [00:03<00:00,  3.44s/it]\n",
      "Render HTML: 100%|██████████| 1/1 [00:00<00:00,  1.98it/s]\n",
      "Export report to file: 100%|██████████| 1/1 [00:00<00:00, 124.96it/s]\n"
     ]
    }
   ],
   "source": [
    "# Generate Report of df_country_series.csv file\n",
    "profile= ProfileReport(df_country_series)\n",
    "profile.to_file(output_file=\"country_series.html\")"
   ]
  },
  {
   "cell_type": "code",
   "execution_count": null,
   "metadata": {},
   "outputs": [],
   "source": []
  },
  {
   "source": [
    "## Reading EdStatsData.csv file"
   ],
   "cell_type": "markdown",
   "metadata": {}
  },
  {
   "cell_type": "code",
   "execution_count": 41,
   "metadata": {},
   "outputs": [
    {
     "output_type": "error",
     "ename": "MemoryError",
     "evalue": "Unable to allocate 447. MiB for an array with shape (66, 886930) and data type float64",
     "traceback": [
      "\u001b[1;31m---------------------------------------------------------------------------\u001b[0m",
      "\u001b[1;31mMemoryError\u001b[0m                               Traceback (most recent call last)",
      "\u001b[1;32m<ipython-input-41-5a412c6567b4>\u001b[0m in \u001b[0;36m<module>\u001b[1;34m\u001b[0m\n\u001b[1;32m----> 1\u001b[1;33m \u001b[0mdf\u001b[0m\u001b[1;33m=\u001b[0m\u001b[0mpd\u001b[0m\u001b[1;33m.\u001b[0m\u001b[0mread_csv\u001b[0m\u001b[1;33m(\u001b[0m\u001b[1;34mr\"C:/Users/swati/Desktop/Project/EdStatsData.csv\"\u001b[0m\u001b[1;33m)\u001b[0m\u001b[1;33m\u001b[0m\u001b[1;33m\u001b[0m\u001b[0m\n\u001b[0m\u001b[0;32m      2\u001b[0m \u001b[0mdf\u001b[0m\u001b[1;33m\u001b[0m\u001b[1;33m\u001b[0m\u001b[0m\n",
      "\u001b[1;32mC:\\Python385\\lib\\site-packages\\pandas\\io\\parsers.py\u001b[0m in \u001b[0;36mread_csv\u001b[1;34m(filepath_or_buffer, sep, delimiter, header, names, index_col, usecols, squeeze, prefix, mangle_dupe_cols, dtype, engine, converters, true_values, false_values, skipinitialspace, skiprows, skipfooter, nrows, na_values, keep_default_na, na_filter, verbose, skip_blank_lines, parse_dates, infer_datetime_format, keep_date_col, date_parser, dayfirst, cache_dates, iterator, chunksize, compression, thousands, decimal, lineterminator, quotechar, quoting, doublequote, escapechar, comment, encoding, dialect, error_bad_lines, warn_bad_lines, delim_whitespace, low_memory, memory_map, float_precision, storage_options)\u001b[0m\n\u001b[0;32m    603\u001b[0m     \u001b[0mkwds\u001b[0m\u001b[1;33m.\u001b[0m\u001b[0mupdate\u001b[0m\u001b[1;33m(\u001b[0m\u001b[0mkwds_defaults\u001b[0m\u001b[1;33m)\u001b[0m\u001b[1;33m\u001b[0m\u001b[1;33m\u001b[0m\u001b[0m\n\u001b[0;32m    604\u001b[0m \u001b[1;33m\u001b[0m\u001b[0m\n\u001b[1;32m--> 605\u001b[1;33m     \u001b[1;32mreturn\u001b[0m \u001b[0m_read\u001b[0m\u001b[1;33m(\u001b[0m\u001b[0mfilepath_or_buffer\u001b[0m\u001b[1;33m,\u001b[0m \u001b[0mkwds\u001b[0m\u001b[1;33m)\u001b[0m\u001b[1;33m\u001b[0m\u001b[1;33m\u001b[0m\u001b[0m\n\u001b[0m\u001b[0;32m    606\u001b[0m \u001b[1;33m\u001b[0m\u001b[0m\n\u001b[0;32m    607\u001b[0m \u001b[1;33m\u001b[0m\u001b[0m\n",
      "\u001b[1;32mC:\\Python385\\lib\\site-packages\\pandas\\io\\parsers.py\u001b[0m in \u001b[0;36m_read\u001b[1;34m(filepath_or_buffer, kwds)\u001b[0m\n\u001b[0;32m    461\u001b[0m \u001b[1;33m\u001b[0m\u001b[0m\n\u001b[0;32m    462\u001b[0m     \u001b[1;32mwith\u001b[0m \u001b[0mparser\u001b[0m\u001b[1;33m:\u001b[0m\u001b[1;33m\u001b[0m\u001b[1;33m\u001b[0m\u001b[0m\n\u001b[1;32m--> 463\u001b[1;33m         \u001b[1;32mreturn\u001b[0m \u001b[0mparser\u001b[0m\u001b[1;33m.\u001b[0m\u001b[0mread\u001b[0m\u001b[1;33m(\u001b[0m\u001b[0mnrows\u001b[0m\u001b[1;33m)\u001b[0m\u001b[1;33m\u001b[0m\u001b[1;33m\u001b[0m\u001b[0m\n\u001b[0m\u001b[0;32m    464\u001b[0m \u001b[1;33m\u001b[0m\u001b[0m\n\u001b[0;32m    465\u001b[0m \u001b[1;33m\u001b[0m\u001b[0m\n",
      "\u001b[1;32mC:\\Python385\\lib\\site-packages\\pandas\\io\\parsers.py\u001b[0m in \u001b[0;36mread\u001b[1;34m(self, nrows)\u001b[0m\n\u001b[0;32m   1062\u001b[0m             \u001b[0mnew_rows\u001b[0m \u001b[1;33m=\u001b[0m \u001b[0mlen\u001b[0m\u001b[1;33m(\u001b[0m\u001b[0mindex\u001b[0m\u001b[1;33m)\u001b[0m\u001b[1;33m\u001b[0m\u001b[1;33m\u001b[0m\u001b[0m\n\u001b[0;32m   1063\u001b[0m \u001b[1;33m\u001b[0m\u001b[0m\n\u001b[1;32m-> 1064\u001b[1;33m         \u001b[0mdf\u001b[0m \u001b[1;33m=\u001b[0m \u001b[0mDataFrame\u001b[0m\u001b[1;33m(\u001b[0m\u001b[0mcol_dict\u001b[0m\u001b[1;33m,\u001b[0m \u001b[0mcolumns\u001b[0m\u001b[1;33m=\u001b[0m\u001b[0mcolumns\u001b[0m\u001b[1;33m,\u001b[0m \u001b[0mindex\u001b[0m\u001b[1;33m=\u001b[0m\u001b[0mindex\u001b[0m\u001b[1;33m)\u001b[0m\u001b[1;33m\u001b[0m\u001b[1;33m\u001b[0m\u001b[0m\n\u001b[0m\u001b[0;32m   1065\u001b[0m \u001b[1;33m\u001b[0m\u001b[0m\n\u001b[0;32m   1066\u001b[0m         \u001b[0mself\u001b[0m\u001b[1;33m.\u001b[0m\u001b[0m_currow\u001b[0m \u001b[1;33m+=\u001b[0m \u001b[0mnew_rows\u001b[0m\u001b[1;33m\u001b[0m\u001b[1;33m\u001b[0m\u001b[0m\n",
      "\u001b[1;32mC:\\Python385\\lib\\site-packages\\pandas\\core\\frame.py\u001b[0m in \u001b[0;36m__init__\u001b[1;34m(self, data, index, columns, dtype, copy)\u001b[0m\n\u001b[0;32m    527\u001b[0m \u001b[1;33m\u001b[0m\u001b[0m\n\u001b[0;32m    528\u001b[0m         \u001b[1;32melif\u001b[0m \u001b[0misinstance\u001b[0m\u001b[1;33m(\u001b[0m\u001b[0mdata\u001b[0m\u001b[1;33m,\u001b[0m \u001b[0mdict\u001b[0m\u001b[1;33m)\u001b[0m\u001b[1;33m:\u001b[0m\u001b[1;33m\u001b[0m\u001b[1;33m\u001b[0m\u001b[0m\n\u001b[1;32m--> 529\u001b[1;33m             \u001b[0mmgr\u001b[0m \u001b[1;33m=\u001b[0m \u001b[0minit_dict\u001b[0m\u001b[1;33m(\u001b[0m\u001b[0mdata\u001b[0m\u001b[1;33m,\u001b[0m \u001b[0mindex\u001b[0m\u001b[1;33m,\u001b[0m \u001b[0mcolumns\u001b[0m\u001b[1;33m,\u001b[0m \u001b[0mdtype\u001b[0m\u001b[1;33m=\u001b[0m\u001b[0mdtype\u001b[0m\u001b[1;33m)\u001b[0m\u001b[1;33m\u001b[0m\u001b[1;33m\u001b[0m\u001b[0m\n\u001b[0m\u001b[0;32m    530\u001b[0m         \u001b[1;32melif\u001b[0m \u001b[0misinstance\u001b[0m\u001b[1;33m(\u001b[0m\u001b[0mdata\u001b[0m\u001b[1;33m,\u001b[0m \u001b[0mma\u001b[0m\u001b[1;33m.\u001b[0m\u001b[0mMaskedArray\u001b[0m\u001b[1;33m)\u001b[0m\u001b[1;33m:\u001b[0m\u001b[1;33m\u001b[0m\u001b[1;33m\u001b[0m\u001b[0m\n\u001b[0;32m    531\u001b[0m             \u001b[1;32mimport\u001b[0m \u001b[0mnumpy\u001b[0m\u001b[1;33m.\u001b[0m\u001b[0mma\u001b[0m\u001b[1;33m.\u001b[0m\u001b[0mmrecords\u001b[0m \u001b[1;32mas\u001b[0m \u001b[0mmrecords\u001b[0m\u001b[1;33m\u001b[0m\u001b[1;33m\u001b[0m\u001b[0m\n",
      "\u001b[1;32mC:\\Python385\\lib\\site-packages\\pandas\\core\\internals\\construction.py\u001b[0m in \u001b[0;36minit_dict\u001b[1;34m(data, index, columns, dtype)\u001b[0m\n\u001b[0;32m    285\u001b[0m             \u001b[0marr\u001b[0m \u001b[1;32mif\u001b[0m \u001b[1;32mnot\u001b[0m \u001b[0mis_datetime64tz_dtype\u001b[0m\u001b[1;33m(\u001b[0m\u001b[0marr\u001b[0m\u001b[1;33m)\u001b[0m \u001b[1;32melse\u001b[0m \u001b[0marr\u001b[0m\u001b[1;33m.\u001b[0m\u001b[0mcopy\u001b[0m\u001b[1;33m(\u001b[0m\u001b[1;33m)\u001b[0m \u001b[1;32mfor\u001b[0m \u001b[0marr\u001b[0m \u001b[1;32min\u001b[0m \u001b[0marrays\u001b[0m\u001b[1;33m\u001b[0m\u001b[1;33m\u001b[0m\u001b[0m\n\u001b[0;32m    286\u001b[0m         ]\n\u001b[1;32m--> 287\u001b[1;33m     \u001b[1;32mreturn\u001b[0m \u001b[0marrays_to_mgr\u001b[0m\u001b[1;33m(\u001b[0m\u001b[0marrays\u001b[0m\u001b[1;33m,\u001b[0m \u001b[0mdata_names\u001b[0m\u001b[1;33m,\u001b[0m \u001b[0mindex\u001b[0m\u001b[1;33m,\u001b[0m \u001b[0mcolumns\u001b[0m\u001b[1;33m,\u001b[0m \u001b[0mdtype\u001b[0m\u001b[1;33m=\u001b[0m\u001b[0mdtype\u001b[0m\u001b[1;33m)\u001b[0m\u001b[1;33m\u001b[0m\u001b[1;33m\u001b[0m\u001b[0m\n\u001b[0m\u001b[0;32m    288\u001b[0m \u001b[1;33m\u001b[0m\u001b[0m\n\u001b[0;32m    289\u001b[0m \u001b[1;33m\u001b[0m\u001b[0m\n",
      "\u001b[1;32mC:\\Python385\\lib\\site-packages\\pandas\\core\\internals\\construction.py\u001b[0m in \u001b[0;36marrays_to_mgr\u001b[1;34m(arrays, arr_names, index, columns, dtype, verify_integrity)\u001b[0m\n\u001b[0;32m     93\u001b[0m     \u001b[0maxes\u001b[0m \u001b[1;33m=\u001b[0m \u001b[1;33m[\u001b[0m\u001b[0mcolumns\u001b[0m\u001b[1;33m,\u001b[0m \u001b[0mindex\u001b[0m\u001b[1;33m]\u001b[0m\u001b[1;33m\u001b[0m\u001b[1;33m\u001b[0m\u001b[0m\n\u001b[0;32m     94\u001b[0m \u001b[1;33m\u001b[0m\u001b[0m\n\u001b[1;32m---> 95\u001b[1;33m     \u001b[1;32mreturn\u001b[0m \u001b[0mcreate_block_manager_from_arrays\u001b[0m\u001b[1;33m(\u001b[0m\u001b[0marrays\u001b[0m\u001b[1;33m,\u001b[0m \u001b[0marr_names\u001b[0m\u001b[1;33m,\u001b[0m \u001b[0maxes\u001b[0m\u001b[1;33m)\u001b[0m\u001b[1;33m\u001b[0m\u001b[1;33m\u001b[0m\u001b[0m\n\u001b[0m\u001b[0;32m     96\u001b[0m \u001b[1;33m\u001b[0m\u001b[0m\n\u001b[0;32m     97\u001b[0m \u001b[1;33m\u001b[0m\u001b[0m\n",
      "\u001b[1;32mC:\\Python385\\lib\\site-packages\\pandas\\core\\internals\\managers.py\u001b[0m in \u001b[0;36mcreate_block_manager_from_arrays\u001b[1;34m(arrays, names, axes)\u001b[0m\n\u001b[0;32m   1699\u001b[0m     \u001b[0marrays\u001b[0m \u001b[1;33m=\u001b[0m \u001b[1;33m[\u001b[0m\u001b[0mx\u001b[0m \u001b[1;32mif\u001b[0m \u001b[1;32mnot\u001b[0m \u001b[0misinstance\u001b[0m\u001b[1;33m(\u001b[0m\u001b[0mx\u001b[0m\u001b[1;33m,\u001b[0m \u001b[0mABCPandasArray\u001b[0m\u001b[1;33m)\u001b[0m \u001b[1;32melse\u001b[0m \u001b[0mx\u001b[0m\u001b[1;33m.\u001b[0m\u001b[0mto_numpy\u001b[0m\u001b[1;33m(\u001b[0m\u001b[1;33m)\u001b[0m \u001b[1;32mfor\u001b[0m \u001b[0mx\u001b[0m \u001b[1;32min\u001b[0m \u001b[0marrays\u001b[0m\u001b[1;33m]\u001b[0m\u001b[1;33m\u001b[0m\u001b[1;33m\u001b[0m\u001b[0m\n\u001b[0;32m   1700\u001b[0m     \u001b[1;32mtry\u001b[0m\u001b[1;33m:\u001b[0m\u001b[1;33m\u001b[0m\u001b[1;33m\u001b[0m\u001b[0m\n\u001b[1;32m-> 1701\u001b[1;33m         \u001b[0mblocks\u001b[0m \u001b[1;33m=\u001b[0m \u001b[0m_form_blocks\u001b[0m\u001b[1;33m(\u001b[0m\u001b[0marrays\u001b[0m\u001b[1;33m,\u001b[0m \u001b[0mnames\u001b[0m\u001b[1;33m,\u001b[0m \u001b[0maxes\u001b[0m\u001b[1;33m)\u001b[0m\u001b[1;33m\u001b[0m\u001b[1;33m\u001b[0m\u001b[0m\n\u001b[0m\u001b[0;32m   1702\u001b[0m         \u001b[0mmgr\u001b[0m \u001b[1;33m=\u001b[0m \u001b[0mBlockManager\u001b[0m\u001b[1;33m(\u001b[0m\u001b[0mblocks\u001b[0m\u001b[1;33m,\u001b[0m \u001b[0maxes\u001b[0m\u001b[1;33m)\u001b[0m\u001b[1;33m\u001b[0m\u001b[1;33m\u001b[0m\u001b[0m\n\u001b[0;32m   1703\u001b[0m         \u001b[0mmgr\u001b[0m\u001b[1;33m.\u001b[0m\u001b[0m_consolidate_inplace\u001b[0m\u001b[1;33m(\u001b[0m\u001b[1;33m)\u001b[0m\u001b[1;33m\u001b[0m\u001b[1;33m\u001b[0m\u001b[0m\n",
      "\u001b[1;32mC:\\Python385\\lib\\site-packages\\pandas\\core\\internals\\managers.py\u001b[0m in \u001b[0;36m_form_blocks\u001b[1;34m(arrays, names, axes)\u001b[0m\n\u001b[0;32m   1757\u001b[0m     \u001b[0mblocks\u001b[0m\u001b[1;33m:\u001b[0m \u001b[0mList\u001b[0m\u001b[1;33m[\u001b[0m\u001b[0mBlock\u001b[0m\u001b[1;33m]\u001b[0m \u001b[1;33m=\u001b[0m \u001b[1;33m[\u001b[0m\u001b[1;33m]\u001b[0m\u001b[1;33m\u001b[0m\u001b[1;33m\u001b[0m\u001b[0m\n\u001b[0;32m   1758\u001b[0m     \u001b[1;32mif\u001b[0m \u001b[0mlen\u001b[0m\u001b[1;33m(\u001b[0m\u001b[0mitems_dict\u001b[0m\u001b[1;33m[\u001b[0m\u001b[1;34m\"FloatBlock\"\u001b[0m\u001b[1;33m]\u001b[0m\u001b[1;33m)\u001b[0m\u001b[1;33m:\u001b[0m\u001b[1;33m\u001b[0m\u001b[1;33m\u001b[0m\u001b[0m\n\u001b[1;32m-> 1759\u001b[1;33m         \u001b[0mfloat_blocks\u001b[0m \u001b[1;33m=\u001b[0m \u001b[0m_multi_blockify\u001b[0m\u001b[1;33m(\u001b[0m\u001b[0mitems_dict\u001b[0m\u001b[1;33m[\u001b[0m\u001b[1;34m\"FloatBlock\"\u001b[0m\u001b[1;33m]\u001b[0m\u001b[1;33m)\u001b[0m\u001b[1;33m\u001b[0m\u001b[1;33m\u001b[0m\u001b[0m\n\u001b[0m\u001b[0;32m   1760\u001b[0m         \u001b[0mblocks\u001b[0m\u001b[1;33m.\u001b[0m\u001b[0mextend\u001b[0m\u001b[1;33m(\u001b[0m\u001b[0mfloat_blocks\u001b[0m\u001b[1;33m)\u001b[0m\u001b[1;33m\u001b[0m\u001b[1;33m\u001b[0m\u001b[0m\n\u001b[0;32m   1761\u001b[0m \u001b[1;33m\u001b[0m\u001b[0m\n",
      "\u001b[1;32mC:\\Python385\\lib\\site-packages\\pandas\\core\\internals\\managers.py\u001b[0m in \u001b[0;36m_multi_blockify\u001b[1;34m(tuples, dtype)\u001b[0m\n\u001b[0;32m   1850\u001b[0m     \u001b[1;32mfor\u001b[0m \u001b[0mdtype\u001b[0m\u001b[1;33m,\u001b[0m \u001b[0mtup_block\u001b[0m \u001b[1;32min\u001b[0m \u001b[0mgrouper\u001b[0m\u001b[1;33m:\u001b[0m\u001b[1;33m\u001b[0m\u001b[1;33m\u001b[0m\u001b[0m\n\u001b[0;32m   1851\u001b[0m \u001b[1;33m\u001b[0m\u001b[0m\n\u001b[1;32m-> 1852\u001b[1;33m         \u001b[0mvalues\u001b[0m\u001b[1;33m,\u001b[0m \u001b[0mplacement\u001b[0m \u001b[1;33m=\u001b[0m \u001b[0m_stack_arrays\u001b[0m\u001b[1;33m(\u001b[0m\u001b[0mlist\u001b[0m\u001b[1;33m(\u001b[0m\u001b[0mtup_block\u001b[0m\u001b[1;33m)\u001b[0m\u001b[1;33m,\u001b[0m \u001b[0mdtype\u001b[0m\u001b[1;33m)\u001b[0m\u001b[1;33m\u001b[0m\u001b[1;33m\u001b[0m\u001b[0m\n\u001b[0m\u001b[0;32m   1853\u001b[0m \u001b[1;33m\u001b[0m\u001b[0m\n\u001b[0;32m   1854\u001b[0m         \u001b[0mblock\u001b[0m \u001b[1;33m=\u001b[0m \u001b[0mmake_block\u001b[0m\u001b[1;33m(\u001b[0m\u001b[0mvalues\u001b[0m\u001b[1;33m,\u001b[0m \u001b[0mplacement\u001b[0m\u001b[1;33m=\u001b[0m\u001b[0mplacement\u001b[0m\u001b[1;33m,\u001b[0m \u001b[0mndim\u001b[0m\u001b[1;33m=\u001b[0m\u001b[1;36m2\u001b[0m\u001b[1;33m)\u001b[0m\u001b[1;33m\u001b[0m\u001b[1;33m\u001b[0m\u001b[0m\n",
      "\u001b[1;32mC:\\Python385\\lib\\site-packages\\pandas\\core\\internals\\managers.py\u001b[0m in \u001b[0;36m_stack_arrays\u001b[1;34m(tuples, dtype)\u001b[0m\n\u001b[0;32m   1878\u001b[0m     \u001b[0mshape\u001b[0m \u001b[1;33m=\u001b[0m \u001b[1;33m(\u001b[0m\u001b[0mlen\u001b[0m\u001b[1;33m(\u001b[0m\u001b[0marrays\u001b[0m\u001b[1;33m)\u001b[0m\u001b[1;33m,\u001b[0m\u001b[1;33m)\u001b[0m \u001b[1;33m+\u001b[0m \u001b[0m_shape_compat\u001b[0m\u001b[1;33m(\u001b[0m\u001b[0mfirst\u001b[0m\u001b[1;33m)\u001b[0m\u001b[1;33m\u001b[0m\u001b[1;33m\u001b[0m\u001b[0m\n\u001b[0;32m   1879\u001b[0m \u001b[1;33m\u001b[0m\u001b[0m\n\u001b[1;32m-> 1880\u001b[1;33m     \u001b[0mstacked\u001b[0m \u001b[1;33m=\u001b[0m \u001b[0mnp\u001b[0m\u001b[1;33m.\u001b[0m\u001b[0mempty\u001b[0m\u001b[1;33m(\u001b[0m\u001b[0mshape\u001b[0m\u001b[1;33m,\u001b[0m \u001b[0mdtype\u001b[0m\u001b[1;33m=\u001b[0m\u001b[0mdtype\u001b[0m\u001b[1;33m)\u001b[0m\u001b[1;33m\u001b[0m\u001b[1;33m\u001b[0m\u001b[0m\n\u001b[0m\u001b[0;32m   1881\u001b[0m     \u001b[1;32mfor\u001b[0m \u001b[0mi\u001b[0m\u001b[1;33m,\u001b[0m \u001b[0marr\u001b[0m \u001b[1;32min\u001b[0m \u001b[0menumerate\u001b[0m\u001b[1;33m(\u001b[0m\u001b[0marrays\u001b[0m\u001b[1;33m)\u001b[0m\u001b[1;33m:\u001b[0m\u001b[1;33m\u001b[0m\u001b[1;33m\u001b[0m\u001b[0m\n\u001b[0;32m   1882\u001b[0m         \u001b[0mstacked\u001b[0m\u001b[1;33m[\u001b[0m\u001b[0mi\u001b[0m\u001b[1;33m]\u001b[0m \u001b[1;33m=\u001b[0m \u001b[0m_asarray_compat\u001b[0m\u001b[1;33m(\u001b[0m\u001b[0marr\u001b[0m\u001b[1;33m)\u001b[0m\u001b[1;33m\u001b[0m\u001b[1;33m\u001b[0m\u001b[0m\n",
      "\u001b[1;31mMemoryError\u001b[0m: Unable to allocate 447. MiB for an array with shape (66, 886930) and data type float64"
     ]
    }
   ],
   "source": [
    "df=pd.read_csv(r\"C:/Users/swati/Desktop/Project/EdStatsData.csv\")\n",
    "df"
   ]
  },
  {
   "source": [
    "### I'm unable to read \"EdStatsData.csv\" file, this is showing me 'MemoryError' as the above cell shows.. i have tried many APIs and tried to read the data using Chunksize but still i'm unable to read the whole data.. "
   ],
   "cell_type": "markdown",
   "metadata": {}
  },
  {
   "source": [
    "## With the help of Chunksize i'm able to read only 10 rows and 70 columns but still unable to read whole data"
   ],
   "cell_type": "markdown",
   "metadata": {}
  },
  {
   "cell_type": "code",
   "execution_count": 43,
   "metadata": {},
   "outputs": [
    {
     "output_type": "stream",
     "name": "stdout",
     "text": [
      "(10, 70)\n==================================================================\n  Country Name Country Code  \\\n0   Arab World          ARB   \n1   Arab World          ARB   \n2   Arab World          ARB   \n3   Arab World          ARB   \n4   Arab World          ARB   \n5   Arab World          ARB   \n6   Arab World          ARB   \n7   Arab World          ARB   \n8   Arab World          ARB   \n9   Arab World          ARB   \n\n                                      Indicator Name  Indicator Code  \\\n0  Adjusted net enrolment rate, lower secondary, ...      UIS.NERA.2   \n1  Adjusted net enrolment rate, lower secondary, ...    UIS.NERA.2.F   \n2  Adjusted net enrolment rate, lower secondary, ...  UIS.NERA.2.GPI   \n3  Adjusted net enrolment rate, lower secondary, ...    UIS.NERA.2.M   \n4  Adjusted net enrolment rate, primary, both sex...     SE.PRM.TENR   \n5   Adjusted net enrolment rate, primary, female (%)  SE.PRM.TENR.FE   \n6  Adjusted net enrolment rate, primary, gender p...  UIS.NERA.1.GPI   \n7     Adjusted net enrolment rate, primary, male (%)  SE.PRM.TENR.MA   \n8  Adjusted net enrolment rate, upper secondary, ...      UIS.NERA.3   \n9  Adjusted net enrolment rate, upper secondary, ...    UIS.NERA.3.F   \n\n        1970       1971       1972       1973       1974       1975  ...  \\\n0        NaN        NaN        NaN        NaN        NaN        NaN  ...   \n1        NaN        NaN        NaN        NaN        NaN        NaN  ...   \n2        NaN        NaN        NaN        NaN        NaN        NaN  ...   \n3        NaN        NaN        NaN        NaN        NaN        NaN  ...   \n4  54.822121  54.894138  56.209438  57.267109  57.991138  59.365540  ...   \n5  43.351101  43.318150  44.640701  45.845718  46.449501  48.363892  ...   \n6   0.658570   0.656400   0.663290   0.672040   0.672610   0.691760  ...   \n7  65.826233  65.993584  67.301857  68.219078  69.059013  69.914551  ...   \n8        NaN        NaN        NaN        NaN        NaN        NaN  ...   \n9        NaN        NaN        NaN        NaN        NaN        NaN  ...   \n\n   2060  2065  2070  2075  2080  2085  2090  2095  2100  Unnamed: 69  \n0   NaN   NaN   NaN   NaN   NaN   NaN   NaN   NaN   NaN          NaN  \n1   NaN   NaN   NaN   NaN   NaN   NaN   NaN   NaN   NaN          NaN  \n2   NaN   NaN   NaN   NaN   NaN   NaN   NaN   NaN   NaN          NaN  \n3   NaN   NaN   NaN   NaN   NaN   NaN   NaN   NaN   NaN          NaN  \n4   NaN   NaN   NaN   NaN   NaN   NaN   NaN   NaN   NaN          NaN  \n5   NaN   NaN   NaN   NaN   NaN   NaN   NaN   NaN   NaN          NaN  \n6   NaN   NaN   NaN   NaN   NaN   NaN   NaN   NaN   NaN          NaN  \n7   NaN   NaN   NaN   NaN   NaN   NaN   NaN   NaN   NaN          NaN  \n8   NaN   NaN   NaN   NaN   NaN   NaN   NaN   NaN   NaN          NaN  \n9   NaN   NaN   NaN   NaN   NaN   NaN   NaN   NaN   NaN          NaN  \n\n[10 rows x 70 columns]\n==================================================================\n"
     ]
    }
   ],
   "source": [
    "Chunksize= 10\n",
    "for chunk in pd.read_csv(r\"C:/Users/swati/Desktop/Project/EdStatsData.csv\", chunksize=Chunksize):\n",
    "    print(chunk.shape)\n",
    "    print(\"=\"*66)\n",
    "    print(chunk.head(10))\n",
    "    print(\"=\"*66)\n",
    "    break"
   ]
  },
  {
   "cell_type": "code",
   "execution_count": null,
   "metadata": {},
   "outputs": [],
   "source": []
  },
  {
   "cell_type": "code",
   "execution_count": null,
   "metadata": {},
   "outputs": [],
   "source": []
  }
 ],
 "metadata": {
  "kernelspec": {
   "display_name": "Python 3",
   "language": "python",
   "name": "python3"
  },
  "language_info": {
   "codemirror_mode": {
    "name": "ipython",
    "version": 3
   },
   "file_extension": ".py",
   "mimetype": "text/x-python",
   "name": "python",
   "nbconvert_exporter": "python",
   "pygments_lexer": "ipython3",
   "version": "3.8.5-final"
  }
 },
 "nbformat": 4,
 "nbformat_minor": 2
}